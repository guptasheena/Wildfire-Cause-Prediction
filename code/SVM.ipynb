{
 "cells": [
  {
   "cell_type": "code",
   "execution_count": 1,
   "metadata": {},
   "outputs": [],
   "source": [
    "from pandas_ml import ConfusionMatrix\n",
    "from sklearn import svm\n",
    "from sklearn.metrics import classification_report,accuracy_score \n",
    "from sklearn.model_selection import train_test_split"
   ]
  },
  {
   "cell_type": "code",
   "execution_count": 2,
   "metadata": {},
   "outputs": [],
   "source": [
    "class SVMModel:\n",
    "    def run_SVM(X, y, split):\n",
    "        X_train, X_test, y_train, y_test = train_test_split(X,y, test_size=split)\n",
    "        model = svm.SVC(gamma='scale')\n",
    "        model.fit(X_train,y_train)\n",
    "        y_pred = model.predict(X_test)\n",
    "        print(y_pred) \n",
    " \n",
    "        print(\"Accuracy score for SVM is:\",accuracy_score(y_test,y_pred))\n",
    "        confusion_matrix = ConfusionMatrix(y_test, y_pred)\n",
    "        print(\"Confusion matrix:\\n%s\" % confusion_matrix)\n",
    "        report = classification_report(y_test,y_pred)\n",
    "        print(\"Classification report:\\n%s\" % report)\n",
    "        return"
   ]
  },
  {
   "cell_type": "code",
   "execution_count": null,
   "metadata": {},
   "outputs": [],
   "source": []
  }
 ],
 "metadata": {
  "kernelspec": {
   "display_name": "Python 3",
   "language": "python",
   "name": "python3"
  },
  "language_info": {
   "codemirror_mode": {
    "name": "ipython",
    "version": 3
   },
   "file_extension": ".py",
   "mimetype": "text/x-python",
   "name": "python",
   "nbconvert_exporter": "python",
   "pygments_lexer": "ipython3",
   "version": "3.7.1"
  }
 },
 "nbformat": 4,
 "nbformat_minor": 2
}
