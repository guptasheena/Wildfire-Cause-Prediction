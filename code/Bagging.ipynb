{
 "cells": [
  {
   "cell_type": "code",
   "execution_count": null,
   "metadata": {},
   "outputs": [],
   "source": [
    "from pandas_ml import ConfusionMatrix\n",
    "from sklearn.ensemble import BaggingClassifier\n",
    "from sklearn.metrics import classification_report,accuracy_score \n",
    "from sklearn.model_selection import train_test_split"
   ]
  },
  {
   "cell_type": "code",
   "execution_count": null,
   "metadata": {},
   "outputs": [],
   "source": [
    "class BaggingModel:\n",
    "    def run_Bagging(X, y, split):\n",
    "        X_train, X_test, y_train, y_test = train_test_split(X,y, test_size=split)\n",
    "        clf = BaggingClassifier(n_estimators=5, warm_start=True,random_state=3141)\n",
    "        clf.fit(X_train, y_train)\n",
    "        y_pred = clf.predict(X_test)\n",
    "        print(y_pred) \n",
    "        \n",
    "        print(\"Accuracy score for Bagging classifier is:\",accuracy_score(y_test,y_pred))\n",
    "        confusion_matrix = ConfusionMatrix(y_test, y_pred)\n",
    "        print(\"Confusion matrix:\\n%s\" % confusion_matrix)\n",
    "        report = classification_report(y_test,y_pred)\n",
    "        print(\"Classification report:\\n%s\" % report)\n",
    " \n",
    "        return"
   ]
  }
 ],
 "metadata": {
  "kernelspec": {
   "display_name": "Python 3",
   "language": "python",
   "name": "python3"
  },
  "language_info": {
   "codemirror_mode": {
    "name": "ipython",
    "version": 3
   },
   "file_extension": ".py",
   "mimetype": "text/x-python",
   "name": "python",
   "nbconvert_exporter": "python",
   "pygments_lexer": "ipython3",
   "version": "3.7.1"
  }
 },
 "nbformat": 4,
 "nbformat_minor": 2
}
