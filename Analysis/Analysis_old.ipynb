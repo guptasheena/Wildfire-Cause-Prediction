{
 "cells": [
  {
   "cell_type": "code",
   "execution_count": 27,
   "metadata": {
    "colab": {},
    "colab_type": "code",
    "id": "jzJ-SmmC5hPS"
   },
   "outputs": [
    {
     "data": {
      "text/html": [
       "        <script type=\"text/javascript\">\n",
       "        window.PlotlyConfig = {MathJaxConfig: 'local'};\n",
       "        if (window.MathJax) {MathJax.Hub.Config({SVG: {font: \"STIX-Web\"}});}\n",
       "        if (typeof require !== 'undefined') {\n",
       "        require.undef(\"plotly\");\n",
       "        requirejs.config({\n",
       "            paths: {\n",
       "                'plotly': ['https://cdn.plot.ly/plotly-latest.min']\n",
       "            }\n",
       "        });\n",
       "        require(['plotly'], function(Plotly) {\n",
       "            window._Plotly = Plotly;\n",
       "        });\n",
       "        }\n",
       "        </script>\n",
       "        "
      ]
     },
     "metadata": {},
     "output_type": "display_data"
    }
   ],
   "source": [
    "import datetime as dt\n",
    "import sqlite3\n",
    "import numpy as np\n",
    "import pandas as pd\n",
    "import matplotlib.pyplot as plt\n",
    "from matplotlib.colors import ListedColormap\n",
    "import seaborn as sns\n",
    "from pandas_ml import ConfusionMatrix\n",
    "\n",
    "%matplotlib inline\n",
    "import plotly.graph_objs as go \n",
    "from plotly.offline import init_notebook_mode,iplot,plot\n",
    "init_notebook_mode(connected=True)"
   ]
  },
  {
   "cell_type": "code",
   "execution_count": 4,
   "metadata": {
    "colab": {},
    "colab_type": "code",
    "id": "Wdb35soG5hPV"
   },
   "outputs": [],
   "source": [
    "conn = sqlite3.connect('../data/FPA_FOD_20170508.sqlite')\n",
    "#c = conn.cursor()"
   ]
  },
  {
   "cell_type": "code",
   "execution_count": 5,
   "metadata": {},
   "outputs": [],
   "source": [
    "df = pd.read_sql(\"\"\" SELECT * from Fires\"\"\",con=conn)"
   ]
  },
  {
   "cell_type": "code",
   "execution_count": 6,
   "metadata": {},
   "outputs": [
    {
     "data": {
      "text/plain": [
       "Index(['OBJECTID', 'FOD_ID', 'FPA_ID', 'SOURCE_SYSTEM_TYPE', 'SOURCE_SYSTEM',\n",
       "       'NWCG_REPORTING_AGENCY', 'NWCG_REPORTING_UNIT_ID',\n",
       "       'NWCG_REPORTING_UNIT_NAME', 'SOURCE_REPORTING_UNIT',\n",
       "       'SOURCE_REPORTING_UNIT_NAME', 'LOCAL_FIRE_REPORT_ID',\n",
       "       'LOCAL_INCIDENT_ID', 'FIRE_CODE', 'FIRE_NAME',\n",
       "       'ICS_209_INCIDENT_NUMBER', 'ICS_209_NAME', 'MTBS_ID', 'MTBS_FIRE_NAME',\n",
       "       'COMPLEX_NAME', 'FIRE_YEAR', 'DISCOVERY_DATE', 'DISCOVERY_DOY',\n",
       "       'DISCOVERY_TIME', 'STAT_CAUSE_CODE', 'STAT_CAUSE_DESCR', 'CONT_DATE',\n",
       "       'CONT_DOY', 'CONT_TIME', 'FIRE_SIZE', 'FIRE_SIZE_CLASS', 'LATITUDE',\n",
       "       'LONGITUDE', 'OWNER_CODE', 'OWNER_DESCR', 'STATE', 'COUNTY',\n",
       "       'FIPS_CODE', 'FIPS_NAME', 'Shape'],\n",
       "      dtype='object')"
      ]
     },
     "execution_count": 6,
     "metadata": {},
     "output_type": "execute_result"
    }
   ],
   "source": [
    "df.columns"
   ]
  },
  {
   "cell_type": "code",
   "execution_count": 28,
   "metadata": {},
   "outputs": [
    {
     "name": "stdout",
     "output_type": "stream",
     "text": [
      "<class 'pandas.core.frame.DataFrame'>\n",
      "RangeIndex: 1880465 entries, 0 to 1880464\n",
      "Data columns (total 9 columns):\n",
      "SOURCE_REPORTING_UNIT_NAME    object\n",
      "STATE                         object\n",
      "LATITUDE                      float64\n",
      "LONGITUDE                     float64\n",
      "FIRE_SIZE_CLASS               object\n",
      "FIRE_YEAR                     int64\n",
      "DISCOVERY_DATE                float64\n",
      "STAT_CAUSE_DESCR              object\n",
      "CONT_DATE                     float64\n",
      "dtypes: float64(4), int64(1), object(4)\n",
      "memory usage: 129.1+ MB\n"
     ]
    }
   ],
   "source": [
    "firedata = df.filter(['SOURCE_REPORTING_UNIT_NAME','STATE','LATITUDE','LONGITUDE','FIRE_SIZE_CLASS','FIRE_YEAR','DISCOVERY_DATE','STAT_CAUSE_DESCR','CONT_DATE'],axis=1)\n",
    "\n",
    "firedata.info()"
   ]
  },
  {
   "cell_type": "code",
   "execution_count": 16,
   "metadata": {
    "colab": {
     "base_uri": "https://localhost:8080/",
     "height": 119
    },
    "colab_type": "code",
    "id": "ZdcsgGxw5hPa",
    "outputId": "20b3c0e4-492a-4871-962d-1f880927b050"
   },
   "outputs": [
    {
     "name": "stdout",
     "output_type": "stream",
     "text": [
      "  SOURCE_REPORTING_UNIT_NAME STATE   LATITUDE   LONGITUDE FIRE_SIZE_CLASS  \\\n",
      "0     Plumas National Forest    CA  40.036944 -121.005833               A   \n",
      "1   Eldorado National Forest    CA  38.933056 -120.404444               A   \n",
      "2   Eldorado National Forest    CA  38.984167 -120.735556               A   \n",
      "3   Eldorado National Forest    CA  38.559167 -119.913333               A   \n",
      "4   Eldorado National Forest    CA  38.559167 -119.933056               A   \n",
      "\n",
      "   FIRE_YEAR  DISCOVERY_DATE STAT_CAUSE_DESCR  CONT_DATE  \n",
      "0       2005       2453403.5    Miscellaneous  2453403.5  \n",
      "1       2004       2453137.5        Lightning  2453137.5  \n",
      "2       2004       2453156.5   Debris Burning  2453156.5  \n",
      "3       2004       2453184.5        Lightning  2453189.5  \n",
      "4       2004       2453184.5        Lightning  2453189.5  \n"
     ]
    }
   ],
   "source": [
    "print(firedata.head())"
   ]
  },
  {
   "cell_type": "code",
   "execution_count": 29,
   "metadata": {},
   "outputs": [
    {
     "data": {
      "text/html": [
       "<div>\n",
       "<style scoped>\n",
       "    .dataframe tbody tr th:only-of-type {\n",
       "        vertical-align: middle;\n",
       "    }\n",
       "\n",
       "    .dataframe tbody tr th {\n",
       "        vertical-align: top;\n",
       "    }\n",
       "\n",
       "    .dataframe thead th {\n",
       "        text-align: right;\n",
       "    }\n",
       "</style>\n",
       "<table border=\"1\" class=\"dataframe\">\n",
       "  <thead>\n",
       "    <tr style=\"text-align: right;\">\n",
       "      <th></th>\n",
       "      <th>SOURCE_REPORTING_UNIT_NAME</th>\n",
       "      <th>STATE</th>\n",
       "      <th>LATITUDE</th>\n",
       "      <th>LONGITUDE</th>\n",
       "      <th>FIRE_SIZE_CLASS</th>\n",
       "      <th>FIRE_YEAR</th>\n",
       "      <th>DISCOVERY_DATE</th>\n",
       "      <th>STAT_CAUSE_DESCR</th>\n",
       "      <th>CONT_DATE</th>\n",
       "      <th>DAY_OF_WEEK</th>\n",
       "      <th>MONTH</th>\n",
       "    </tr>\n",
       "  </thead>\n",
       "  <tbody>\n",
       "    <tr>\n",
       "      <th>0</th>\n",
       "      <td>Plumas National Forest</td>\n",
       "      <td>CA</td>\n",
       "      <td>40.036944</td>\n",
       "      <td>-121.005833</td>\n",
       "      <td>A</td>\n",
       "      <td>2005</td>\n",
       "      <td>2005-02-02</td>\n",
       "      <td>Miscellaneous</td>\n",
       "      <td>2005-02-02</td>\n",
       "      <td>Wednesday</td>\n",
       "      <td>2</td>\n",
       "    </tr>\n",
       "    <tr>\n",
       "      <th>1</th>\n",
       "      <td>Eldorado National Forest</td>\n",
       "      <td>CA</td>\n",
       "      <td>38.933056</td>\n",
       "      <td>-120.404444</td>\n",
       "      <td>A</td>\n",
       "      <td>2004</td>\n",
       "      <td>2004-05-12</td>\n",
       "      <td>Lightning</td>\n",
       "      <td>2004-05-12</td>\n",
       "      <td>Wednesday</td>\n",
       "      <td>5</td>\n",
       "    </tr>\n",
       "    <tr>\n",
       "      <th>2</th>\n",
       "      <td>Eldorado National Forest</td>\n",
       "      <td>CA</td>\n",
       "      <td>38.984167</td>\n",
       "      <td>-120.735556</td>\n",
       "      <td>A</td>\n",
       "      <td>2004</td>\n",
       "      <td>2004-05-31</td>\n",
       "      <td>Debris Burning</td>\n",
       "      <td>2004-05-31</td>\n",
       "      <td>Monday</td>\n",
       "      <td>5</td>\n",
       "    </tr>\n",
       "    <tr>\n",
       "      <th>3</th>\n",
       "      <td>Eldorado National Forest</td>\n",
       "      <td>CA</td>\n",
       "      <td>38.559167</td>\n",
       "      <td>-119.913333</td>\n",
       "      <td>A</td>\n",
       "      <td>2004</td>\n",
       "      <td>2004-06-28</td>\n",
       "      <td>Lightning</td>\n",
       "      <td>2004-07-03</td>\n",
       "      <td>Monday</td>\n",
       "      <td>6</td>\n",
       "    </tr>\n",
       "    <tr>\n",
       "      <th>4</th>\n",
       "      <td>Eldorado National Forest</td>\n",
       "      <td>CA</td>\n",
       "      <td>38.559167</td>\n",
       "      <td>-119.933056</td>\n",
       "      <td>A</td>\n",
       "      <td>2004</td>\n",
       "      <td>2004-06-28</td>\n",
       "      <td>Lightning</td>\n",
       "      <td>2004-07-03</td>\n",
       "      <td>Monday</td>\n",
       "      <td>6</td>\n",
       "    </tr>\n",
       "  </tbody>\n",
       "</table>\n",
       "</div>"
      ],
      "text/plain": [
       "  SOURCE_REPORTING_UNIT_NAME STATE   LATITUDE   LONGITUDE FIRE_SIZE_CLASS  \\\n",
       "0     Plumas National Forest    CA  40.036944 -121.005833               A   \n",
       "1   Eldorado National Forest    CA  38.933056 -120.404444               A   \n",
       "2   Eldorado National Forest    CA  38.984167 -120.735556               A   \n",
       "3   Eldorado National Forest    CA  38.559167 -119.913333               A   \n",
       "4   Eldorado National Forest    CA  38.559167 -119.933056               A   \n",
       "\n",
       "   FIRE_YEAR DISCOVERY_DATE STAT_CAUSE_DESCR  CONT_DATE DAY_OF_WEEK  MONTH  \n",
       "0       2005     2005-02-02    Miscellaneous 2005-02-02   Wednesday      2  \n",
       "1       2004     2004-05-12        Lightning 2004-05-12   Wednesday      5  \n",
       "2       2004     2004-05-31   Debris Burning 2004-05-31      Monday      5  \n",
       "3       2004     2004-06-28        Lightning 2004-07-03      Monday      6  \n",
       "4       2004     2004-06-28        Lightning 2004-07-03      Monday      6  "
      ]
     },
     "execution_count": 29,
     "metadata": {},
     "output_type": "execute_result"
    }
   ],
   "source": [
    "firedata['DISCOVERY_DATE'] = pd.to_datetime(firedata['DISCOVERY_DATE'] - pd.Timestamp(0).to_julian_date(), unit='D')\n",
    "firedata['DAY_OF_WEEK'] = pd.to_datetime(firedata['DISCOVERY_DATE']).dt.weekday_name\n",
    "firedata['MONTH'] = pd.DatetimeIndex(firedata['DISCOVERY_DATE']).month\n",
    "firedata['CONT_DATE'] = pd.to_datetime(firedata['CONT_DATE'] - pd.Timestamp(0).to_julian_date(), unit='D')\n",
    "firedata.head()"
   ]
  },
  {
   "cell_type": "code",
   "execution_count": 18,
   "metadata": {
    "colab": {
     "base_uri": "https://localhost:8080/",
     "height": 269
    },
    "colab_type": "code",
    "id": "njii7Uek5hPg",
    "outputId": "88ffea5b-7029-4a1e-96ce-837971e03d51"
   },
   "outputs": [
    {
     "data": {
      "image/png": "[encoded data removed]",
      "text/plain": [
       "<Figure size 432x288 with 1 Axes>"
      ]
     },
     "metadata": {
      "needs_background": "light"
     },
     "output_type": "display_data"
    }
   ],
   "source": [
    "firedata['DAY_OF_WEEK'].value_counts().plot(kind='barh',color='coral')\n",
    "plt.show()"
   ]
  },
  {
   "cell_type": "code",
   "execution_count": 19,
   "metadata": {
    "colab": {},
    "colab_type": "code",
    "id": "VJAL65ge5hPj"
   },
   "outputs": [],
   "source": [
    "temp_df =firedata.groupby(['STAT_CAUSE_DESCR']).size().reset_index(name='count')"
   ]
  },
  {
   "cell_type": "code",
   "execution_count": 20,
   "metadata": {
    "colab": {
     "base_uri": "https://localhost:8080/",
     "height": 255
    },
    "colab_type": "code",
    "id": "7ZZyR_9X5hPl",
    "outputId": "5ab2441c-dd61-476a-8acc-54bc4079551d"
   },
   "outputs": [
    {
     "name": "stdout",
     "output_type": "stream",
     "text": [
      "     STAT_CAUSE_DESCR   count\n",
      "0               Arson  281455\n",
      "1            Campfire   76139\n",
      "2            Children   61167\n",
      "3      Debris Burning  429028\n",
      "4       Equipment Use  147612\n",
      "5           Fireworks   11500\n",
      "6           Lightning  278468\n",
      "7       Miscellaneous  323805\n",
      "8   Missing/Undefined  166723\n",
      "9           Powerline   14448\n",
      "10           Railroad   33455\n",
      "11            Smoking   52869\n",
      "12          Structure    3796\n"
     ]
    }
   ],
   "source": [
    "print(temp_df)"
   ]
  },
  {
   "cell_type": "code",
   "execution_count": 21,
   "metadata": {
    "colab": {
     "base_uri": "https://localhost:8080/",
     "height": 368
    },
    "colab_type": "code",
    "id": "d-EgZxoO5hPo",
    "outputId": "e6b9e112-c45f-4cc5-f6fe-ba871d8a5bf7"
   },
   "outputs": [
    {
     "data": {
      "text/plain": [
       "<matplotlib.axes._subplots.AxesSubplot at 0x21cd867ce80>"
      ]
     },
     "execution_count": 21,
     "metadata": {},
     "output_type": "execute_result"
    },
    {
     "data": {
      "image/png": "[encoded data removed]",
      "text/plain": [
       "<Figure size 432x288 with 1 Axes>"
      ]
     },
     "metadata": {
      "needs_background": "light"
     },
     "output_type": "display_data"
    }
   ],
   "source": [
    "firedata['STAT_CAUSE_DESCR'].value_counts().plot(kind='bar')"
   ]
  },
  {
   "cell_type": "code",
   "execution_count": 30,
   "metadata": {},
   "outputs": [],
   "source": [
    "V = firedata['STATE'].value_counts()\n",
    "\n",
    "States = V.index.tolist()\n",
    "\n",
    "data = dict(type='choropleth',\n",
    "            #colorscale = 'Viridis',\n",
    "            colorscale = 'Reds',\n",
    "            reversescale = False,\n",
    "            locations = States,\n",
    "            z = V,\n",
    "            locationmode = 'USA-states',\n",
    "            text = States,\n",
    "            marker = dict(line = dict(color = 'rgb(255,255,255)',width = 1)),\n",
    "            colorbar = {'title':\"Fires by State\"}\n",
    "            )\n",
    "layout = dict(title = 'Wilds Fires by States',\n",
    "              geo = dict(scope='usa',\n",
    "                         showlakes = True,\n",
    "                         lakecolor = 'rgb(85,173,240)')\n",
    "             )\n",
    "choromap = go.Figure(data = [data],layout = layout)"
   ]
  },
  {
   "cell_type": "code",
   "execution_count": 31,
   "metadata": {},
   "outputs": [
    {
     "data": {
      "application/vnd.plotly.v1+json": {
       "config": {
        "linkText": "Export to plot.ly",
        "plotlyServerURL": "https://plot.ly",
        "responsive": true,
        "showLink": false
       },
       "data": [
        {
         "colorbar": {
          "title": {
           "text": "Fires by State"
          }
         },
         "colorscale": "Reds",
         "locationmode": "USA-states",
         "locations": [
          "CA",
          "GA",
          "TX",
          "NC",
          "FL",
          "SC",
          "NY",
          "MS",
          "AZ",
          "AL",
          "OR",
          "MN",
          "OK",
          "MT",
          "NM",
          "ID",
          "CO",
          "WA",
          "WI",
          "AR",
          "TN",
          "SD",
          "UT",
          "LA",
          "KY",
          "NJ",
          "PR",
          "WV",
          "VA",
          "MO",
          "NV",
          "ND",
          "WY",
          "ME",
          "AK",
          "MI",
          "HI",
          "PA",
          "NE",
          "KS",
          "CT",
          "IA",
          "MD",
          "OH",
          "MA",
          "NH",
          "IL",
          "IN",
          "RI",
          "VT",
          "DE",
          "DC"
         ],
         "marker": {
          "line": {
           "color": "rgb(255,255,255)",
           "width": 1
          }
         },
         "reversescale": false,
         "text": [
          "CA",
          "GA",
          "TX",
          "NC",
          "FL",
          "SC",
          "NY",
          "MS",
          "AZ",
          "AL",
          "OR",
          "MN",
          "OK",
          "MT",
          "NM",
          "ID",
          "CO",
          "WA",
          "WI",
          "AR",
          "TN",
          "SD",
          "UT",
          "LA",
          "KY",
          "NJ",
          "PR",
          "WV",
          "VA",
          "MO",
          "NV",
          "ND",
          "WY",
          "ME",
          "AK",
          "MI",
          "HI",
          "PA",
          "NE",
          "KS",
          "CT",
          "IA",
          "MD",
          "OH",
          "MA",
          "NH",
          "IL",
          "IN",
          "RI",
          "VT",
          "DE",
          "DC"
         ],
         "type": "choropleth",
         "uid": "7038e06e-9978-4db7-b723-ccf495fb1029",
         "z": [
          189550,
          168867,
          142021,
          111277,
          90261,
          81315,
          80870,
          79230,
          71586,
          66570,
          61088,
          44769,
          43239,
          40767,
          37478,
          36698,
          34157,
          33513,
          31861,
          31663,
          31154,
          30963,
          30725,
          30013,
          27089,
          25949,
          22081,
          21967,
          21833,
          17953,
          16956,
          15201,
          14166,
          13150,
          12843,
          10502,
          9895,
          8712,
          7973,
          7673,
          4976,
          4134,
          3622,
          3479,
          2626,
          2452,
          2327,
          2098,
          480,
          456,
          171,
          66
         ]
        }
       ],
       "layout": {
        "geo": {
         "lakecolor": "rgb(85,173,240)",
         "scope": "usa",
         "showlakes": true
        },
        "title": {
         "text": "Wilds Fires by States"
        }
       }
      },
      "text/html": [
       "<div>\n",
       "        \n",
       "        \n",
       "            <div id=\"1f1c663f-1e7d-45c2-9a3f-26d9d71e25d3\" class=\"plotly-graph-div\" style=\"height:525px; width:100%;\"></div>\n",
       "            <script type=\"text/javascript\">\n",
       "                require([\"plotly\"], function(Plotly) {\n",
       "                    window.PLOTLYENV=window.PLOTLYENV || {};\n",
       "                    window.PLOTLYENV.BASE_URL='https://plot.ly';\n",
       "                    \n",
       "                if (document.getElementById(\"1f1c663f-1e7d-45c2-9a3f-26d9d71e25d3\")) {\n",
       "                    Plotly.newPlot(\n",
       "                        '1f1c663f-1e7d-45c2-9a3f-26d9d71e25d3',\n",
       "                        [{\"colorbar\": {\"title\": {\"text\": \"Fires by State\"}}, \"colorscale\": \"Reds\", \"locationmode\": \"USA-states\", \"locations\": [\"CA\", \"GA\", \"TX\", \"NC\", \"FL\", \"SC\", \"NY\", \"MS\", \"AZ\", \"AL\", \"OR\", \"MN\", \"OK\", \"MT\", \"NM\", \"ID\", \"CO\", \"WA\", \"WI\", \"AR\", \"TN\", \"SD\", \"UT\", \"LA\", \"KY\", \"NJ\", \"PR\", \"WV\", \"VA\", \"MO\", \"NV\", \"ND\", \"WY\", \"ME\", \"AK\", \"MI\", \"HI\", \"PA\", \"NE\", \"KS\", \"CT\", \"IA\", \"MD\", \"OH\", \"MA\", \"NH\", \"IL\", \"IN\", \"RI\", \"VT\", \"DE\", \"DC\"], \"marker\": {\"line\": {\"color\": \"rgb(255,255,255)\", \"width\": 1}}, \"reversescale\": false, \"text\": [\"CA\", \"GA\", \"TX\", \"NC\", \"FL\", \"SC\", \"NY\", \"MS\", \"AZ\", \"AL\", \"OR\", \"MN\", \"OK\", \"MT\", \"NM\", \"ID\", \"CO\", \"WA\", \"WI\", \"AR\", \"TN\", \"SD\", \"UT\", \"LA\", \"KY\", \"NJ\", \"PR\", \"WV\", \"VA\", \"MO\", \"NV\", \"ND\", \"WY\", \"ME\", \"AK\", \"MI\", \"HI\", \"PA\", \"NE\", \"KS\", \"CT\", \"IA\", \"MD\", \"OH\", \"MA\", \"NH\", \"IL\", \"IN\", \"RI\", \"VT\", \"DE\", \"DC\"], \"type\": \"choropleth\", \"uid\": \"0dde664b-7e4a-42ae-9b4f-00ffe1c2def6\", \"z\": [189550, 168867, 142021, 111277, 90261, 81315, 80870, 79230, 71586, 66570, 61088, 44769, 43239, 40767, 37478, 36698, 34157, 33513, 31861, 31663, 31154, 30963, 30725, 30013, 27089, 25949, 22081, 21967, 21833, 17953, 16956, 15201, 14166, 13150, 12843, 10502, 9895, 8712, 7973, 7673, 4976, 4134, 3622, 3479, 2626, 2452, 2327, 2098, 480, 456, 171, 66]}],\n",
       "                        {\"geo\": {\"lakecolor\": \"rgb(85,173,240)\", \"scope\": \"usa\", \"showlakes\": true}, \"title\": {\"text\": \"Wilds Fires by States\"}},\n",
       "                        {\"showLink\": false, \"linkText\": \"Export to plot.ly\", \"plotlyServerURL\": \"https://plot.ly\", \"responsive\": true}\n",
       "                    ).then(function(){\n",
       "                            \n",
       "var gd = document.getElementById('1f1c663f-1e7d-45c2-9a3f-26d9d71e25d3');\n",
       "var x = new MutationObserver(function (mutations, observer) {{\n",
       "        var display = window.getComputedStyle(gd).display;\n",
       "        if (!display || display === 'none') {{\n",
       "            console.log([gd, 'removed!']);\n",
       "            Plotly.purge(gd);\n",
       "            observer.disconnect();\n",
       "        }}\n",
       "}});\n",
       "\n",
       "// Listen for the removal of the full notebook cells\n",
       "var notebookContainer = gd.closest('#notebook-container');\n",
       "if (notebookContainer) {{\n",
       "    x.observe(notebookContainer, {childList: true});\n",
       "}}\n",
       "\n",
       "// Listen for the clearing of the current output cell\n",
       "var outputEl = gd.closest('.output');\n",
       "if (outputEl) {{\n",
       "    x.observe(outputEl, {childList: true});\n",
       "}}\n",
       "\n",
       "                        })\n",
       "                };\n",
       "                });\n",
       "            </script>\n",
       "        </div>"
      ]
     },
     "metadata": {},
     "output_type": "display_data"
    }
   ],
   "source": [
    "iplot(choromap)"
   ]
  },
  {
   "cell_type": "code",
   "execution_count": 32,
   "metadata": {
    "colab": {
     "base_uri": "https://localhost:8080/",
     "height": 238
    },
    "colab_type": "code",
    "id": "7eeNdIa45hPr",
    "outputId": "96b92d4f-1ecb-4ef2-c498-2d96c7440506"
   },
   "outputs": [
    {
     "name": "stdout",
     "output_type": "stream",
     "text": [
      "  SOURCE_REPORTING_UNIT_NAME  STATE   LATITUDE   LONGITUDE  FIRE_SIZE_CLASS  \\\n",
      "0     Plumas National Forest      4  40.036944 -121.005833                0   \n",
      "1   Eldorado National Forest      4  38.933056 -120.404444                0   \n",
      "2   Eldorado National Forest      4  38.984167 -120.735556                0   \n",
      "3   Eldorado National Forest      4  38.559167 -119.913333                0   \n",
      "4   Eldorado National Forest      4  38.559167 -119.933056                0   \n",
      "\n",
      "   FIRE_YEAR DISCOVERY_DATE  STAT_CAUSE_DESCR  CONT_DATE  DAY_OF_WEEK  MONTH  \n",
      "0       2005     2005-02-02                 7 2005-02-02            6      1  \n",
      "1       2004     2004-05-12                 6 2004-05-12            6      4  \n",
      "2       2004     2004-05-31                 3 2004-05-31            1      4  \n",
      "3       2004     2004-06-28                 6 2004-07-03            1      5  \n",
      "4       2004     2004-06-28                 6 2004-07-03            1      5  \n"
     ]
    }
   ],
   "source": [
    "from sklearn import preprocessing\n",
    "enc = preprocessing.LabelEncoder()\n",
    "firedata['STAT_CAUSE_DESCR'] = enc.fit_transform(firedata['STAT_CAUSE_DESCR'])\n",
    "firedata['DAY_OF_WEEK'] = enc.fit_transform(firedata['DAY_OF_WEEK'])\n",
    "firedata['MONTH'] = enc.fit_transform(firedata['MONTH'])\n",
    "firedata['FIRE_SIZE_CLASS'] = enc.fit_transform(firedata['FIRE_SIZE_CLASS'])\n",
    "firedata['STATE'] = enc.fit_transform(firedata['STATE'])\n",
    "print(firedata.head())"
   ]
  },
  {
   "cell_type": "code",
   "execution_count": 33,
   "metadata": {
    "colab": {
     "base_uri": "https://localhost:8080/",
     "height": 988
    },
    "colab_type": "code",
    "id": "Rwmbqn1k5hPt",
    "outputId": "5b6bf1fc-1154-443b-b730-512c4245b5c7"
   },
   "outputs": [
    {
     "data": {
      "image/png": "[encoded data removed]",
      "text/plain": [
       "<Figure size 720x720 with 1 Axes>"
      ]
     },
     "metadata": {
      "needs_background": "light"
     },
     "output_type": "display_data"
    }
   ],
   "source": [
    "import matplotlib.pyplot as plt\n",
    "def heat_map(df,size=10):\n",
    "    corr = df.corr()  #the default method is pearson\n",
    "    fig, ax = plt.subplots(figsize=(size, size))\n",
    "    ax.matshow(corr,cmap=plt.cm.Oranges)\n",
    "    plt.xticks(range(len(corr.columns)), corr.columns)\n",
    "    plt.yticks(range(len(corr.columns)), corr.columns)\n",
    "    for tick in ax.get_xticklabels():\n",
    "        tick.set_rotation(45)    \n",
    "    plt.show()\n",
    "    \n",
    "\n",
    "    \n",
    "heat_map(df)"
   ]
  },
  {
   "cell_type": "code",
   "execution_count": 34,
   "metadata": {},
   "outputs": [
    {
     "data": {
      "text/plain": [
       "<matplotlib.axes._subplots.AxesSubplot at 0x21cc9378c50>"
      ]
     },
     "execution_count": 34,
     "metadata": {},
     "output_type": "execute_result"
    },
    {
     "data": {
      "image/png": "[encoded data removed]",
      "text/plain": [
       "<Figure size 432x288 with 2 Axes>"
      ]
     },
     "metadata": {
      "needs_background": "light"
     },
     "output_type": "display_data"
    }
   ],
   "source": [
    "import seaborn as sns\n",
    "corr =firedata.corr()\n",
    "sns.heatmap(corr, \n",
    "            xticklabels=corr.columns.values,\n",
    "            yticklabels=corr.columns.values)"
   ]
  }
 ],
 "metadata": {
  "colab": {
   "collapsed_sections": [],
   "name": "Analysis.ipynb",
   "provenance": [],
   "version": "0.3.2"
  },
  "kernelspec": {
   "display_name": "Python 3",
   "language": "python",
   "name": "python3"
  },
  "language_info": {
   "codemirror_mode": {
    "name": "ipython",
    "version": 3
   },
   "file_extension": ".py",
   "mimetype": "text/x-python",
   "name": "python",
   "nbconvert_exporter": "python",
   "pygments_lexer": "ipython3",
   "version": "3.6.8"
  }
 },
 "nbformat": 4,
 "nbformat_minor": 1
}
