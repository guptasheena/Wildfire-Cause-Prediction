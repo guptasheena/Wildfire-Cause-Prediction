{
 "cells": [
  {
   "cell_type": "code",
   "execution_count": 1,
   "metadata": {
    "colab": {},
    "colab_type": "code",
    "id": "jzJ-SmmC5hPS"
   },
   "outputs": [],
   "source": [
    "import datetime as dt\n",
    "import sqlite3\n",
    "import numpy as np\n",
    "import pandas as pd\n",
    "import matplotlib.pyplot as plt"
   ]
  },
  {
   "cell_type": "code",
   "execution_count": 2,
   "metadata": {
    "colab": {},
    "colab_type": "code",
    "id": "Wdb35soG5hPV"
   },
   "outputs": [],
   "source": [
    "conn = sqlite3.connect('data/FPA_FOD_20170508.sqlite')\n",
    "#c = conn.cursor()"
   ]
  },
  {
   "cell_type": "code",
   "execution_count": 3,
   "metadata": {
    "colab": {},
    "colab_type": "code",
    "id": "9tzUU0ZH5hPY"
   },
   "outputs": [],
   "source": [
    "df = pd.read_sql_query(\"SELECT STAT_CAUSE_DESCR,LATITUDE,LONGITUDE,STATE,DISCOVERY_DATE,FIRE_SIZE FROM 'Fires'\", conn)"
   ]
  },
  {
   "cell_type": "code",
   "execution_count": 4,
   "metadata": {
    "colab": {
     "base_uri": "https://localhost:8080/",
     "height": 119
    },
    "colab_type": "code",
    "id": "ZdcsgGxw5hPa",
    "outputId": "20b3c0e4-492a-4871-962d-1f880927b050"
   },
   "outputs": [
    {
     "name": "stdout",
     "output_type": "stream",
     "text": [
      "  STAT_CAUSE_DESCR   LATITUDE   LONGITUDE STATE  DISCOVERY_DATE  FIRE_SIZE\n",
      "0    Miscellaneous  40.036944 -121.005833    CA       2453403.5       0.10\n",
      "1        Lightning  38.933056 -120.404444    CA       2453137.5       0.25\n",
      "2   Debris Burning  38.984167 -120.735556    CA       2453156.5       0.10\n",
      "3        Lightning  38.559167 -119.913333    CA       2453184.5       0.10\n",
      "4        Lightning  38.559167 -119.933056    CA       2453184.5       0.10\n"
     ]
    }
   ],
   "source": [
    "print(df.head())"
   ]
  },
  {
   "cell_type": "code",
   "execution_count": 5,
   "metadata": {
    "colab": {},
    "colab_type": "code",
    "id": "2Rl1L93z5hPe"
   },
   "outputs": [],
   "source": [
    "df['DATE'] = pd.to_datetime(df['DISCOVERY_DATE'] - pd.Timestamp(0).to_julian_date(), unit='D')\n",
    "df['DAY_OF_WEEK'] = pd.to_datetime(df['DATE']).dt.weekday_name\n",
    "df['MONTH'] = pd.DatetimeIndex(df['DATE']).month"
   ]
  },
  {
   "cell_type": "code",
   "execution_count": 6,
   "metadata": {
    "colab": {
     "base_uri": "https://localhost:8080/",
     "height": 269
    },
    "colab_type": "code",
    "id": "njii7Uek5hPg",
    "outputId": "88ffea5b-7029-4a1e-96ce-837971e03d51"
   },
   "outputs": [
    {
     "data": {
      "image/png": "[encoded data removed]",
      "text/plain": [
       "<Figure size 432x288 with 1 Axes>"
      ]
     },
     "metadata": {
      "needs_background": "light"
     },
     "output_type": "display_data"
    }
   ],
   "source": [
    "df['DAY_OF_WEEK'].value_counts().plot(kind='barh',color='coral')\n",
    "plt.show()"
   ]
  },
  {
   "cell_type": "code",
   "execution_count": 7,
   "metadata": {
    "colab": {},
    "colab_type": "code",
    "id": "VJAL65ge5hPj"
   },
   "outputs": [],
   "source": [
    "temp_df =df.groupby(['STAT_CAUSE_DESCR']).size().reset_index(name='count')"
   ]
  },
  {
   "cell_type": "code",
   "execution_count": 8,
   "metadata": {
    "colab": {
     "base_uri": "https://localhost:8080/",
     "height": 255
    },
    "colab_type": "code",
    "id": "7ZZyR_9X5hPl",
    "outputId": "5ab2441c-dd61-476a-8acc-54bc4079551d"
   },
   "outputs": [
    {
     "name": "stdout",
     "output_type": "stream",
     "text": [
      "     STAT_CAUSE_DESCR   count\n",
      "0               Arson  281455\n",
      "1            Campfire   76139\n",
      "2            Children   61167\n",
      "3      Debris Burning  429028\n",
      "4       Equipment Use  147612\n",
      "5           Fireworks   11500\n",
      "6           Lightning  278468\n",
      "7       Miscellaneous  323805\n",
      "8   Missing/Undefined  166723\n",
      "9           Powerline   14448\n",
      "10           Railroad   33455\n",
      "11            Smoking   52869\n",
      "12          Structure    3796\n"
     ]
    }
   ],
   "source": [
    "print(temp_df)"
   ]
  },
  {
   "cell_type": "code",
   "execution_count": 9,
   "metadata": {
    "colab": {
     "base_uri": "https://localhost:8080/",
     "height": 368
    },
    "colab_type": "code",
    "id": "d-EgZxoO5hPo",
    "outputId": "e6b9e112-c45f-4cc5-f6fe-ba871d8a5bf7"
   },
   "outputs": [
    {
     "data": {
      "text/plain": [
       "<matplotlib.axes._subplots.AxesSubplot at 0x12b262cc0>"
      ]
     },
     "execution_count": 9,
     "metadata": {},
     "output_type": "execute_result"
    },
    {
     "data": {
      "image/png": "[encoded data removed]",
      "text/plain": [
       "<Figure size 432x288 with 1 Axes>"
      ]
     },
     "metadata": {
      "needs_background": "light"
     },
     "output_type": "display_data"
    }
   ],
   "source": [
    "df['STAT_CAUSE_DESCR'].value_counts().plot(kind='bar')"
   ]
  },
  {
   "cell_type": "code",
   "execution_count": 10,
   "metadata": {
    "colab": {
     "base_uri": "https://localhost:8080/",
     "height": 238
    },
    "colab_type": "code",
    "id": "7eeNdIa45hPr",
    "outputId": "96b92d4f-1ecb-4ef2-c498-2d96c7440506"
   },
   "outputs": [
    {
     "name": "stdout",
     "output_type": "stream",
     "text": [
      "   STAT_CAUSE_DESCR   LATITUDE   LONGITUDE  STATE  DISCOVERY_DATE  FIRE_SIZE  \\\n",
      "0                 7  40.036944 -121.005833      4       2453403.5       0.10   \n",
      "1                 6  38.933056 -120.404444      4       2453137.5       0.25   \n",
      "2                 3  38.984167 -120.735556      4       2453156.5       0.10   \n",
      "3                 6  38.559167 -119.913333      4       2453184.5       0.10   \n",
      "4                 6  38.559167 -119.933056      4       2453184.5       0.10   \n",
      "\n",
      "        DATE  DAY_OF_WEEK  MONTH  \n",
      "0 2005-02-02            6      2  \n",
      "1 2004-05-12            6      5  \n",
      "2 2004-05-31            1      5  \n",
      "3 2004-06-28            1      6  \n",
      "4 2004-06-28            1      6  \n"
     ]
    }
   ],
   "source": [
    "from sklearn import preprocessing\n",
    "le = preprocessing.LabelEncoder()\n",
    "df['STAT_CAUSE_DESCR'] = le.fit_transform(df['STAT_CAUSE_DESCR'])\n",
    "df['STATE'] = le.fit_transform(df['STATE'])\n",
    "df['DAY_OF_WEEK'] = le.fit_transform(df['DAY_OF_WEEK'])\n",
    "print(df.head())"
   ]
  },
  {
   "cell_type": "code",
   "execution_count": 11,
   "metadata": {
    "colab": {
     "base_uri": "https://localhost:8080/",
     "height": 988
    },
    "colab_type": "code",
    "id": "Rwmbqn1k5hPt",
    "outputId": "5b6bf1fc-1154-443b-b730-512c4245b5c7"
   },
   "outputs": [
    {
     "name": "stdout",
     "output_type": "stream",
     "text": [
      "                  STAT_CAUSE_DESCR  LATITUDE  LONGITUDE     STATE  \\\n",
      "STAT_CAUSE_DESCR          1.000000  0.012729  -0.123879  0.036004   \n",
      "LATITUDE                  0.012729  1.000000  -0.354727  0.152474   \n",
      "LONGITUDE                -0.123879 -0.354727   1.000000  0.207575   \n",
      "STATE                     0.036004  0.152474   0.207575  1.000000   \n",
      "DISCOVERY_DATE            0.052475  0.005821   0.006870  0.100746   \n",
      "FIRE_SIZE                 0.010450  0.038860  -0.039731 -0.008003   \n",
      "DAY_OF_WEEK               0.007523 -0.003110  -0.004100 -0.002518   \n",
      "MONTH                     0.057583  0.147484  -0.243395 -0.034804   \n",
      "\n",
      "                  DISCOVERY_DATE  FIRE_SIZE  DAY_OF_WEEK     MONTH  \n",
      "STAT_CAUSE_DESCR        0.052475   0.010450     0.007523  0.057583  \n",
      "LATITUDE                0.005821   0.038860    -0.003110  0.147484  \n",
      "LONGITUDE               0.006870  -0.039731    -0.004100 -0.243395  \n",
      "STATE                   0.100746  -0.008003    -0.002518 -0.034804  \n",
      "DISCOVERY_DATE          1.000000   0.007260    -0.002096  0.028813  \n",
      "FIRE_SIZE               0.007260   1.000000    -0.000011  0.005695  \n",
      "DAY_OF_WEEK            -0.002096  -0.000011     1.000000  0.008494  \n",
      "MONTH                   0.028813   0.005695     0.008494  1.000000  \n"
     ]
    },
    {
     "data": {
      "image/png": "[encoded data removed]",
      "text/plain": [
       "<Figure size 720x720 with 1 Axes>"
      ]
     },
     "metadata": {
      "needs_background": "light"
     },
     "output_type": "display_data"
    }
   ],
   "source": [
    "import matplotlib.pyplot as plt\n",
    "def heat_map(df,size=10):\n",
    "    corr = df.corr()  #the default method is pearson\n",
    "    print(corr)\n",
    "    fig, ax = plt.subplots(figsize=(size, size))\n",
    "    ax.matshow(corr,cmap=plt.cm.Oranges)\n",
    "    plt.xticks(range(len(corr.columns)), corr.columns)\n",
    "    plt.yticks(range(len(corr.columns)), corr.columns)\n",
    "    for tick in ax.get_xticklabels():\n",
    "        tick.set_rotation(45)    \n",
    "    plt.show()\n",
    "    \n",
    "\n",
    "    \n",
    "heat_map(df)"
   ]
  },
  {
   "cell_type": "code",
   "execution_count": 12,
   "metadata": {
    "colab": {
     "base_uri": "https://localhost:8080/",
     "height": 85
    },
    "colab_type": "code",
    "id": "eBFU0MBS5hPw",
    "outputId": "2ddf817c-eea8-4063-b552-467c7ed024fb"
   },
   "outputs": [
    {
     "data": {
      "text/plain": [
       "SVC(C=1.0, cache_size=200, class_weight=None, coef0=0.0,\n",
       "  decision_function_shape='ovr', degree=3, gamma='scale', kernel='rbf',\n",
       "  max_iter=-1, probability=False, random_state=None, shrinking=True,\n",
       "  tol=0.001, verbose=False)"
      ]
     },
     "execution_count": 12,
     "metadata": {},
     "output_type": "execute_result"
    }
   ],
   "source": [
    "from sklearn import svm\n",
    "from sklearn.model_selection import train_test_split  \n",
    "\n",
    "df = df.head(50000)\n",
    "df['DATE'] = pd.to_numeric(df['DATE'], errors='coerce') #converting from timestamp to numeric value\n",
    "X_train, X_test, y_train, y_test = train_test_split(df.loc[:, df.columns != 'STAT_CAUSE_DESCR'], df['STAT_CAUSE_DESCR'], test_size = 0.20)\n",
    "clf = svm.SVC(gamma='scale')\n",
    "\n",
    "clf.fit(X_train, y_train)"
   ]
  },
  {
   "cell_type": "code",
   "execution_count": 13,
   "metadata": {
    "colab": {
     "base_uri": "https://localhost:8080/",
     "height": 34
    },
    "colab_type": "code",
    "id": "27vBwyAkEv1D",
    "outputId": "01764a95-533c-4446-f590-3857c7e83508"
   },
   "outputs": [
    {
     "data": {
      "text/plain": [
       "array([1, 6, 7, ..., 6, 6, 6])"
      ]
     },
     "execution_count": 13,
     "metadata": {},
     "output_type": "execute_result"
    }
   ],
   "source": [
    "y_true = clf.predict(X_test)\n",
    "from sklearn.metrics import accuracy_score\n",
    "accuracy_score(y_true, y_test)\n",
    "y_true "
   ]
  },
  {
   "cell_type": "code",
   "execution_count": null,
   "metadata": {},
   "outputs": [],
   "source": []
  }
 ],
 "metadata": {
  "colab": {
   "collapsed_sections": [],
   "name": "Analysis.ipynb",
   "provenance": [],
   "version": "0.3.2"
  },
  "kernelspec": {
   "display_name": "Python 3",
   "language": "python",
   "name": "python3"
  },
  "language_info": {
   "codemirror_mode": {
    "name": "ipython",
    "version": 3
   },
   "file_extension": ".py",
   "mimetype": "text/x-python",
   "name": "python",
   "nbconvert_exporter": "python",
   "pygments_lexer": "ipython3",
   "version": "3.7.1"
  }
 },
 "nbformat": 4,
 "nbformat_minor": 1
}
