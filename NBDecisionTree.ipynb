{
 "cells": [
  {
   "cell_type": "code",
   "execution_count": 52,
   "metadata": {},
   "outputs": [
    {
     "data": {
      "text/html": [
       "<script type=\"text/javascript\">window.PlotlyConfig = {MathJaxConfig: 'local'};</script><script type=\"text/javascript\">if (window.MathJax) {MathJax.Hub.Config({SVG: {font: \"STIX-Web\"}});}</script><script>requirejs.config({paths: { 'plotly': ['https://cdn.plot.ly/plotly-latest.min']},});if(!window._Plotly) {require(['plotly'],function(plotly) {window._Plotly=plotly;});}</script>"
      ],
      "text/vnd.plotly.v1+html": [
       "<script type=\"text/javascript\">window.PlotlyConfig = {MathJaxConfig: 'local'};</script><script type=\"text/javascript\">if (window.MathJax) {MathJax.Hub.Config({SVG: {font: \"STIX-Web\"}});}</script><script>requirejs.config({paths: { 'plotly': ['https://cdn.plot.ly/plotly-latest.min']},});if(!window._Plotly) {require(['plotly'],function(plotly) {window._Plotly=plotly;});}</script>"
      ]
     },
     "metadata": {},
     "output_type": "display_data"
    }
   ],
   "source": [
    "#import all the packages\n",
    "import sqlite3\n",
    "import pandas as pd\n",
    "from pandas_ml import ConfusionMatrix\n",
    "import numpy as np\n",
    "import matplotlib.pyplot as plt\n",
    "from matplotlib.colors import ListedColormap\n",
    "import seaborn as sns\n",
    "\n",
    "%matplotlib inline\n",
    "import plotly.graph_objs as go \n",
    "from plotly.offline import init_notebook_mode,iplot,plot\n",
    "init_notebook_mode(connected=True)\n",
    "\n",
    "\n",
    "\n",
    "\n"
   ]
  },
  {
   "cell_type": "code",
   "execution_count": 2,
   "metadata": {
    "collapsed": true
   },
   "outputs": [],
   "source": [
    "conn = sqlite3.connect('/Users/deeptisrini/Downloads/FPA_FOD_20170508.sqlite')\n",
    "\n"
   ]
  },
  {
   "cell_type": "code",
   "execution_count": 3,
   "metadata": {
    "collapsed": true
   },
   "outputs": [],
   "source": [
    "df = pd.read_sql(\"\"\" SELECT * from Fires\"\"\",con=conn)\n"
   ]
  },
  {
   "cell_type": "code",
   "execution_count": 49,
   "metadata": {},
   "outputs": [
    {
     "data": {
      "text/plain": [
       "Index(['OBJECTID', 'FOD_ID', 'FPA_ID', 'SOURCE_SYSTEM_TYPE', 'SOURCE_SYSTEM',\n",
       "       'NWCG_REPORTING_AGENCY', 'NWCG_REPORTING_UNIT_ID',\n",
       "       'NWCG_REPORTING_UNIT_NAME', 'SOURCE_REPORTING_UNIT',\n",
       "       'SOURCE_REPORTING_UNIT_NAME', 'LOCAL_FIRE_REPORT_ID',\n",
       "       'LOCAL_INCIDENT_ID', 'FIRE_CODE', 'FIRE_NAME',\n",
       "       'ICS_209_INCIDENT_NUMBER', 'ICS_209_NAME', 'MTBS_ID', 'MTBS_FIRE_NAME',\n",
       "       'COMPLEX_NAME', 'FIRE_YEAR', 'DISCOVERY_DATE', 'DISCOVERY_DOY',\n",
       "       'DISCOVERY_TIME', 'STAT_CAUSE_CODE', 'STAT_CAUSE_DESCR', 'CONT_DATE',\n",
       "       'CONT_DOY', 'CONT_TIME', 'FIRE_SIZE', 'FIRE_SIZE_CLASS', 'LATITUDE',\n",
       "       'LONGITUDE', 'OWNER_CODE', 'OWNER_DESCR', 'STATE', 'COUNTY',\n",
       "       'FIPS_CODE', 'FIPS_NAME', 'Shape'],\n",
       "      dtype='object')"
      ]
     },
     "execution_count": 49,
     "metadata": {},
     "output_type": "execute_result"
    }
   ],
   "source": [
    "df.columns"
   ]
  },
  {
   "cell_type": "markdown",
   "metadata": {},
   "source": [
    "# Data Pre-Processing "
   ]
  },
  {
   "cell_type": "markdown",
   "metadata": {},
   "source": [
    "## Feature Selection from the dataset"
   ]
  },
  {
   "cell_type": "code",
   "execution_count": 5,
   "metadata": {},
   "outputs": [
    {
     "name": "stdout",
     "output_type": "stream",
     "text": [
      "<class 'pandas.core.frame.DataFrame'>\n",
      "RangeIndex: 1880465 entries, 0 to 1880464\n",
      "Data columns (total 9 columns):\n",
      "SOURCE_REPORTING_UNIT_NAME    object\n",
      "STATE                         object\n",
      "LATITUDE                      float64\n",
      "LONGITUDE                     float64\n",
      "FIRE_SIZE_CLASS               object\n",
      "FIRE_YEAR                     int64\n",
      "DISCOVERY_DATE                float64\n",
      "STAT_CAUSE_DESCR              object\n",
      "CONT_DATE                     float64\n",
      "dtypes: float64(4), int64(1), object(4)\n",
      "memory usage: 129.1+ MB\n"
     ]
    }
   ],
   "source": [
    "firedata = df.filter(['SOURCE_REPORTING_UNIT_NAME','STATE','LATITUDE','LONGITUDE','FIRE_SIZE_CLASS','FIRE_YEAR','DISCOVERY_DATE','STAT_CAUSE_DESCR','CONT_DATE'],axis=1)\n",
    "\n",
    "firedata.info()"
   ]
  },
  {
   "cell_type": "markdown",
   "metadata": {},
   "source": [
    "## Convert date from Julian to Gregorian calendar format "
   ]
  },
  {
   "cell_type": "code",
   "execution_count": 6,
   "metadata": {},
   "outputs": [
    {
     "data": {
      "text/html": [
       "<div>\n",
       "<style>\n",
       "    .dataframe thead tr:only-child th {\n",
       "        text-align: right;\n",
       "    }\n",
       "\n",
       "    .dataframe thead th {\n",
       "        text-align: left;\n",
       "    }\n",
       "\n",
       "    .dataframe tbody tr th {\n",
       "        vertical-align: top;\n",
       "    }\n",
       "</style>\n",
       "<table border=\"1\" class=\"dataframe\">\n",
       "  <thead>\n",
       "    <tr style=\"text-align: right;\">\n",
       "      <th></th>\n",
       "      <th>SOURCE_REPORTING_UNIT_NAME</th>\n",
       "      <th>STATE</th>\n",
       "      <th>LATITUDE</th>\n",
       "      <th>LONGITUDE</th>\n",
       "      <th>FIRE_SIZE_CLASS</th>\n",
       "      <th>FIRE_YEAR</th>\n",
       "      <th>DISCOVERY_DATE</th>\n",
       "      <th>STAT_CAUSE_DESCR</th>\n",
       "      <th>CONT_DATE</th>\n",
       "      <th>DAY_OF_WEEK</th>\n",
       "      <th>MONTH</th>\n",
       "    </tr>\n",
       "  </thead>\n",
       "  <tbody>\n",
       "    <tr>\n",
       "      <th>0</th>\n",
       "      <td>Plumas National Forest</td>\n",
       "      <td>CA</td>\n",
       "      <td>40.036944</td>\n",
       "      <td>-121.005833</td>\n",
       "      <td>A</td>\n",
       "      <td>2005</td>\n",
       "      <td>2005-02-02</td>\n",
       "      <td>Miscellaneous</td>\n",
       "      <td>2005-02-02</td>\n",
       "      <td>Thursday</td>\n",
       "      <td>1</td>\n",
       "    </tr>\n",
       "    <tr>\n",
       "      <th>1</th>\n",
       "      <td>Eldorado National Forest</td>\n",
       "      <td>CA</td>\n",
       "      <td>38.933056</td>\n",
       "      <td>-120.404444</td>\n",
       "      <td>A</td>\n",
       "      <td>2004</td>\n",
       "      <td>2004-05-12</td>\n",
       "      <td>Lightning</td>\n",
       "      <td>2004-05-12</td>\n",
       "      <td>Thursday</td>\n",
       "      <td>1</td>\n",
       "    </tr>\n",
       "    <tr>\n",
       "      <th>2</th>\n",
       "      <td>Eldorado National Forest</td>\n",
       "      <td>CA</td>\n",
       "      <td>38.984167</td>\n",
       "      <td>-120.735556</td>\n",
       "      <td>A</td>\n",
       "      <td>2004</td>\n",
       "      <td>2004-05-31</td>\n",
       "      <td>Debris Burning</td>\n",
       "      <td>2004-05-31</td>\n",
       "      <td>Thursday</td>\n",
       "      <td>1</td>\n",
       "    </tr>\n",
       "    <tr>\n",
       "      <th>3</th>\n",
       "      <td>Eldorado National Forest</td>\n",
       "      <td>CA</td>\n",
       "      <td>38.559167</td>\n",
       "      <td>-119.913333</td>\n",
       "      <td>A</td>\n",
       "      <td>2004</td>\n",
       "      <td>2004-06-28</td>\n",
       "      <td>Lightning</td>\n",
       "      <td>2004-07-03</td>\n",
       "      <td>Thursday</td>\n",
       "      <td>1</td>\n",
       "    </tr>\n",
       "    <tr>\n",
       "      <th>4</th>\n",
       "      <td>Eldorado National Forest</td>\n",
       "      <td>CA</td>\n",
       "      <td>38.559167</td>\n",
       "      <td>-119.933056</td>\n",
       "      <td>A</td>\n",
       "      <td>2004</td>\n",
       "      <td>2004-06-28</td>\n",
       "      <td>Lightning</td>\n",
       "      <td>2004-07-03</td>\n",
       "      <td>Thursday</td>\n",
       "      <td>1</td>\n",
       "    </tr>\n",
       "  </tbody>\n",
       "</table>\n",
       "</div>"
      ],
      "text/plain": [
       "  SOURCE_REPORTING_UNIT_NAME STATE   LATITUDE   LONGITUDE FIRE_SIZE_CLASS  \\\n",
       "0     Plumas National Forest    CA  40.036944 -121.005833               A   \n",
       "1   Eldorado National Forest    CA  38.933056 -120.404444               A   \n",
       "2   Eldorado National Forest    CA  38.984167 -120.735556               A   \n",
       "3   Eldorado National Forest    CA  38.559167 -119.913333               A   \n",
       "4   Eldorado National Forest    CA  38.559167 -119.933056               A   \n",
       "\n",
       "   FIRE_YEAR DISCOVERY_DATE STAT_CAUSE_DESCR  CONT_DATE DAY_OF_WEEK  MONTH  \n",
       "0       2005     2005-02-02    Miscellaneous 2005-02-02    Thursday      1  \n",
       "1       2004     2004-05-12        Lightning 2004-05-12    Thursday      1  \n",
       "2       2004     2004-05-31   Debris Burning 2004-05-31    Thursday      1  \n",
       "3       2004     2004-06-28        Lightning 2004-07-03    Thursday      1  \n",
       "4       2004     2004-06-28        Lightning 2004-07-03    Thursday      1  "
      ]
     },
     "execution_count": 6,
     "metadata": {},
     "output_type": "execute_result"
    }
   ],
   "source": [
    "firedata['DISCOVERY_DATE'] = pd.to_datetime(firedata['DISCOVERY_DATE'] - pd.Timestamp(0).to_julian_date(), unit='D')\n",
    "firedata['DAY_OF_WEEK'] = pd.to_datetime(df['DISCOVERY_DATE']).dt.weekday_name\n",
    "firedata['MONTH'] = pd.DatetimeIndex(df['DISCOVERY_DATE']).month\n",
    "firedata['CONT_DATE'] = pd.to_datetime(firedata['CONT_DATE'] - pd.Timestamp(0).to_julian_date(), unit='D')\n",
    "firedata.head()"
   ]
  },
  {
   "cell_type": "code",
   "execution_count": 7,
   "metadata": {
    "collapsed": true
   },
   "outputs": [],
   "source": [
    "V = firedata['STATE'].value_counts()\n",
    "\n",
    "States = V.index.tolist()\n",
    "\n",
    "data = dict(type='choropleth',\n",
    "            #colorscale = 'Viridis',\n",
    "            colorscale = 'Reds',\n",
    "            reversescale = False,\n",
    "            locations = States,\n",
    "            z = V,\n",
    "            locationmode = 'USA-states',\n",
    "            text = States,\n",
    "            marker = dict(line = dict(color = 'rgb(255,255,255)',width = 1)),\n",
    "            colorbar = {'title':\"Fires by State\"}\n",
    "            )\n",
    "layout = dict(title = 'Wilds Fires by States',\n",
    "              geo = dict(scope='usa',\n",
    "                         showlakes = True,\n",
    "                         lakecolor = 'rgb(85,173,240)')\n",
    "             )\n",
    "choromap = go.Figure(data = [data],layout = layout)\n",
    "#plot(choromap,validate=False)\n"
   ]
  },
  {
   "cell_type": "code",
   "execution_count": 8,
   "metadata": {},
   "outputs": [
    {
     "data": {
      "application/vnd.plotly.v1+json": {
       "config": {
        "linkText": "Export to plot.ly",
        "plotlyServerURL": "https://plot.ly",
        "showLink": false
       },
       "data": [
        {
         "colorbar": {
          "title": {
           "text": "Fires by State"
          }
         },
         "colorscale": "Reds",
         "locationmode": "USA-states",
         "locations": [
          "CA",
          "GA",
          "TX",
          "NC",
          "FL",
          "SC",
          "NY",
          "MS",
          "AZ",
          "AL",
          "OR",
          "MN",
          "OK",
          "MT",
          "NM",
          "ID",
          "CO",
          "WA",
          "WI",
          "AR",
          "TN",
          "SD",
          "UT",
          "LA",
          "KY",
          "NJ",
          "PR",
          "WV",
          "VA",
          "MO",
          "NV",
          "ND",
          "WY",
          "ME",
          "AK",
          "MI",
          "HI",
          "PA",
          "NE",
          "KS",
          "CT",
          "IA",
          "MD",
          "OH",
          "MA",
          "NH",
          "IL",
          "IN",
          "RI",
          "VT",
          "DE",
          "DC"
         ],
         "marker": {
          "line": {
           "color": "rgb(255,255,255)",
           "width": 1
          }
         },
         "reversescale": false,
         "text": [
          "CA",
          "GA",
          "TX",
          "NC",
          "FL",
          "SC",
          "NY",
          "MS",
          "AZ",
          "AL",
          "OR",
          "MN",
          "OK",
          "MT",
          "NM",
          "ID",
          "CO",
          "WA",
          "WI",
          "AR",
          "TN",
          "SD",
          "UT",
          "LA",
          "KY",
          "NJ",
          "PR",
          "WV",
          "VA",
          "MO",
          "NV",
          "ND",
          "WY",
          "ME",
          "AK",
          "MI",
          "HI",
          "PA",
          "NE",
          "KS",
          "CT",
          "IA",
          "MD",
          "OH",
          "MA",
          "NH",
          "IL",
          "IN",
          "RI",
          "VT",
          "DE",
          "DC"
         ],
         "type": "choropleth",
         "uid": "9f204f36-8e72-4388-b389-381b244f3ae9",
         "z": [
          189550,
          168867,
          142021,
          111277,
          90261,
          81315,
          80870,
          79230,
          71586,
          66570,
          61088,
          44769,
          43239,
          40767,
          37478,
          36698,
          34157,
          33513,
          31861,
          31663,
          31154,
          30963,
          30725,
          30013,
          27089,
          25949,
          22081,
          21967,
          21833,
          17953,
          16956,
          15201,
          14166,
          13150,
          12843,
          10502,
          9895,
          8712,
          7973,
          7673,
          4976,
          4134,
          3622,
          3479,
          2626,
          2452,
          2327,
          2098,
          480,
          456,
          171,
          66
         ]
        }
       ],
       "layout": {
        "geo": {
         "lakecolor": "rgb(85,173,240)",
         "scope": "usa",
         "showlakes": true
        },
        "title": {
         "text": "Wilds Fires by States"
        }
       }
      },
      "text/html": [
       "<div id=\"18196a34-74d2-4323-804a-0a73c84e9b15\" style=\"height: 525px; width: 100%;\" class=\"plotly-graph-div\"></div><script type=\"text/javascript\">require([\"plotly\"], function(Plotly) { window.PLOTLYENV=window.PLOTLYENV || {};window.PLOTLYENV.BASE_URL=\"https://plot.ly\";Plotly.newPlot(\"18196a34-74d2-4323-804a-0a73c84e9b15\", [{\"colorbar\": {\"title\": {\"text\": \"Fires by State\"}}, \"colorscale\": \"Reds\", \"locationmode\": \"USA-states\", \"locations\": [\"CA\", \"GA\", \"TX\", \"NC\", \"FL\", \"SC\", \"NY\", \"MS\", \"AZ\", \"AL\", \"OR\", \"MN\", \"OK\", \"MT\", \"NM\", \"ID\", \"CO\", \"WA\", \"WI\", \"AR\", \"TN\", \"SD\", \"UT\", \"LA\", \"KY\", \"NJ\", \"PR\", \"WV\", \"VA\", \"MO\", \"NV\", \"ND\", \"WY\", \"ME\", \"AK\", \"MI\", \"HI\", \"PA\", \"NE\", \"KS\", \"CT\", \"IA\", \"MD\", \"OH\", \"MA\", \"NH\", \"IL\", \"IN\", \"RI\", \"VT\", \"DE\", \"DC\"], \"marker\": {\"line\": {\"color\": \"rgb(255,255,255)\", \"width\": 1}}, \"reversescale\": false, \"text\": [\"CA\", \"GA\", \"TX\", \"NC\", \"FL\", \"SC\", \"NY\", \"MS\", \"AZ\", \"AL\", \"OR\", \"MN\", \"OK\", \"MT\", \"NM\", \"ID\", \"CO\", \"WA\", \"WI\", \"AR\", \"TN\", \"SD\", \"UT\", \"LA\", \"KY\", \"NJ\", \"PR\", \"WV\", \"VA\", \"MO\", \"NV\", \"ND\", \"WY\", \"ME\", \"AK\", \"MI\", \"HI\", \"PA\", \"NE\", \"KS\", \"CT\", \"IA\", \"MD\", \"OH\", \"MA\", \"NH\", \"IL\", \"IN\", \"RI\", \"VT\", \"DE\", \"DC\"], \"z\": [189550, 168867, 142021, 111277, 90261, 81315, 80870, 79230, 71586, 66570, 61088, 44769, 43239, 40767, 37478, 36698, 34157, 33513, 31861, 31663, 31154, 30963, 30725, 30013, 27089, 25949, 22081, 21967, 21833, 17953, 16956, 15201, 14166, 13150, 12843, 10502, 9895, 8712, 7973, 7673, 4976, 4134, 3622, 3479, 2626, 2452, 2327, 2098, 480, 456, 171, 66], \"type\": \"choropleth\", \"uid\": \"9f204f36-8e72-4388-b389-381b244f3ae9\"}], {\"geo\": {\"lakecolor\": \"rgb(85,173,240)\", \"scope\": \"usa\", \"showlakes\": true}, \"title\": {\"text\": \"Wilds Fires by States\"}}, {\"showLink\": false, \"linkText\": \"Export to plot.ly\", \"plotlyServerURL\": \"https://plot.ly\"})});</script><script type=\"text/javascript\">window.addEventListener(\"resize\", function(){window._Plotly.Plots.resize(document.getElementById(\"18196a34-74d2-4323-804a-0a73c84e9b15\"));});</script>"
      ],
      "text/vnd.plotly.v1+html": [
       "<div id=\"18196a34-74d2-4323-804a-0a73c84e9b15\" style=\"height: 525px; width: 100%;\" class=\"plotly-graph-div\"></div><script type=\"text/javascript\">require([\"plotly\"], function(Plotly) { window.PLOTLYENV=window.PLOTLYENV || {};window.PLOTLYENV.BASE_URL=\"https://plot.ly\";Plotly.newPlot(\"18196a34-74d2-4323-804a-0a73c84e9b15\", [{\"colorbar\": {\"title\": {\"text\": \"Fires by State\"}}, \"colorscale\": \"Reds\", \"locationmode\": \"USA-states\", \"locations\": [\"CA\", \"GA\", \"TX\", \"NC\", \"FL\", \"SC\", \"NY\", \"MS\", \"AZ\", \"AL\", \"OR\", \"MN\", \"OK\", \"MT\", \"NM\", \"ID\", \"CO\", \"WA\", \"WI\", \"AR\", \"TN\", \"SD\", \"UT\", \"LA\", \"KY\", \"NJ\", \"PR\", \"WV\", \"VA\", \"MO\", \"NV\", \"ND\", \"WY\", \"ME\", \"AK\", \"MI\", \"HI\", \"PA\", \"NE\", \"KS\", \"CT\", \"IA\", \"MD\", \"OH\", \"MA\", \"NH\", \"IL\", \"IN\", \"RI\", \"VT\", \"DE\", \"DC\"], \"marker\": {\"line\": {\"color\": \"rgb(255,255,255)\", \"width\": 1}}, \"reversescale\": false, \"text\": [\"CA\", \"GA\", \"TX\", \"NC\", \"FL\", \"SC\", \"NY\", \"MS\", \"AZ\", \"AL\", \"OR\", \"MN\", \"OK\", \"MT\", \"NM\", \"ID\", \"CO\", \"WA\", \"WI\", \"AR\", \"TN\", \"SD\", \"UT\", \"LA\", \"KY\", \"NJ\", \"PR\", \"WV\", \"VA\", \"MO\", \"NV\", \"ND\", \"WY\", \"ME\", \"AK\", \"MI\", \"HI\", \"PA\", \"NE\", \"KS\", \"CT\", \"IA\", \"MD\", \"OH\", \"MA\", \"NH\", \"IL\", \"IN\", \"RI\", \"VT\", \"DE\", \"DC\"], \"z\": [189550, 168867, 142021, 111277, 90261, 81315, 80870, 79230, 71586, 66570, 61088, 44769, 43239, 40767, 37478, 36698, 34157, 33513, 31861, 31663, 31154, 30963, 30725, 30013, 27089, 25949, 22081, 21967, 21833, 17953, 16956, 15201, 14166, 13150, 12843, 10502, 9895, 8712, 7973, 7673, 4976, 4134, 3622, 3479, 2626, 2452, 2327, 2098, 480, 456, 171, 66], \"type\": \"choropleth\", \"uid\": \"9f204f36-8e72-4388-b389-381b244f3ae9\"}], {\"geo\": {\"lakecolor\": \"rgb(85,173,240)\", \"scope\": \"usa\", \"showlakes\": true}, \"title\": {\"text\": \"Wilds Fires by States\"}}, {\"showLink\": false, \"linkText\": \"Export to plot.ly\", \"plotlyServerURL\": \"https://plot.ly\"})});</script><script type=\"text/javascript\">window.addEventListener(\"resize\", function(){window._Plotly.Plots.resize(document.getElementById(\"18196a34-74d2-4323-804a-0a73c84e9b15\"));});</script>"
      ]
     },
     "metadata": {},
     "output_type": "display_data"
    }
   ],
   "source": [
    "iplot(choromap)"
   ]
  },
  {
   "cell_type": "markdown",
   "metadata": {},
   "source": [
    "## Naive -bayes "
   ]
  },
  {
   "cell_type": "code",
   "execution_count": 39,
   "metadata": {},
   "outputs": [
    {
     "name": "stdout",
     "output_type": "stream",
     "text": [
      "Classification Report\n"
     ]
    },
    {
     "name": "stderr",
     "output_type": "stream",
     "text": [
      "/anaconda3/lib/python3.6/site-packages/sklearn/metrics/classification.py:1143: UndefinedMetricWarning:\n",
      "\n",
      "Precision and F-score are ill-defined and being set to 0.0 in labels with no predicted samples.\n",
      "\n"
     ]
    },
    {
     "name": "stdout",
     "output_type": "stream",
     "text": [
      "              precision    recall  f1-score   support\n",
      "\n",
      "           0       0.34      0.11      0.17     56226\n",
      "           1       0.00      0.00      0.00     15064\n",
      "           2       0.00      0.00      0.00     12234\n",
      "           3       0.33      0.78      0.47     85911\n",
      "           4       0.00      0.00      0.00     29382\n",
      "           5       0.00      0.00      0.00      2258\n",
      "           6       0.33      0.64      0.44     55823\n",
      "           7       0.31      0.20      0.24     64846\n",
      "           8       0.89      0.19      0.31     33540\n",
      "           9       0.00      0.00      0.00      2982\n",
      "          10       0.00      0.00      0.00      6587\n",
      "          11       0.00      0.00      0.00     10490\n",
      "          12       0.00      0.00      0.00       750\n",
      "\n",
      "   micro avg       0.34      0.34      0.34    376093\n",
      "   macro avg       0.17      0.15      0.13    376093\n",
      "weighted avg       0.31      0.34      0.27    376093\n",
      "\n",
      "Score for Naive Baye's: 0.33994251421855765\n",
      "Accuracy score: 0.34123740670525643\n"
     ]
    }
   ],
   "source": [
    "from sklearn import preprocessing\n",
    "enc = preprocessing.LabelEncoder()\n",
    "firedata['STAT_CAUSE_DESCR'] = enc.fit_transform(firedata['STAT_CAUSE_DESCR'])\n",
    "firedata['DAY_OF_WEEK'] = enc.fit_transform(firedata['DAY_OF_WEEK'])\n",
    "firedata['MONTH'] = enc.fit_transform(firedata['MONTH'])\n",
    "firedata['FIRE_SIZE_CLASS'] = enc.fit_transform(firedata['FIRE_SIZE_CLASS'])\n",
    "firedata['STATE'] = enc.fit_transform(firedata['STATE'])\n",
    "X = firedata[['FIRE_YEAR','DAY_OF_WEEK','MONTH','STATE', 'LATITUDE','LONGITUDE','FIRE_SIZE_CLASS']]\n",
    "y = firedata['STAT_CAUSE_DESCR']\n",
    "\n",
    "from sklearn.model_selection import train_test_split \n",
    "X_train, X_test, y_train, y_test = train_test_split(X,y, test_size=0.2)\n",
    "from sklearn.naive_bayes import GaussianNB\n",
    "model = GaussianNB()\n",
    "model.fit(X_train,y_train)\n",
    "y_pred = model.predict(X_test)\n",
    "\n",
    "\n",
    "from sklearn.metrics import classification_report,accuracy_score  \n",
    "print(\"Classification Report\")\n",
    "print(classification_report(y_test,y_pred))  \n",
    "print(\"Score for Naive Baye's:\",model.score(X_train, y_train))\n",
    "print(\"Accuracy score:\",accuracy_score(y_test,y_pred))"
   ]
  },
  {
   "cell_type": "code",
   "execution_count": 36,
   "metadata": {},
   "outputs": [
    {
     "name": "stdout",
     "output_type": "stream",
     "text": [
      "Confusion matrix:\n",
      "Predicted   0.0  1.0  2.0    3.0  4.0  5.0    6.0   7.0   8.0  9.0  10.0  \\\n",
      "Actual                                                                     \n",
      "0.0         458    0    0   5011    0    0   2598   921   172    0     0   \n",
      "1.0         277    0    0   3447    0    0   1792   665   104    0     0   \n",
      "2.0         148    0    0   1534    0    0    794   318    46    0     0   \n",
      "3.0         294    0    0   3315    0    0   1783   669    93    0     0   \n",
      "4.0         179    0    0   2105    0    0   1056   459    62    0     0   \n",
      "5.0          63    0    0    642    0    0    353   143    27    0     0   \n",
      "6.0        1634    0    1  17307    0    0   9094  3522   579    0     0   \n",
      "7.0         492    0    0   5459    0    0   2896  1158   176    0     0   \n",
      "8.0          21    0    0    299    0    0    162    67     6    0     0   \n",
      "9.0          24    0    0    253    0    0    119    54    11    0     0   \n",
      "10.0         37    0    0    239    0    0    137    55    11    0     0   \n",
      "11.0         86    0    0    941    0    0    512   193    27    0     0   \n",
      "12.0          6    0    0    121    0    0     42    19     6    0     0   \n",
      "__all__    3719    0    1  40673    0    0  21338  8243  1320    0     0   \n",
      "\n",
      "Predicted  11.0  12.0  __all__  \n",
      "Actual                          \n",
      "0.0           0     0     9160  \n",
      "1.0           0     0     6285  \n",
      "2.0           0     0     2840  \n",
      "3.0           0     0     6154  \n",
      "4.0           0     0     3861  \n",
      "5.0           0     0     1228  \n",
      "6.0           0     0    32137  \n",
      "7.0           0     0    10181  \n",
      "8.0           0     0      555  \n",
      "9.0           0     0      461  \n",
      "10.0          0     0      479  \n",
      "11.0          0     0     1759  \n",
      "12.0          0     0      194  \n",
      "__all__       0     0    75294  \n"
     ]
    }
   ],
   "source": [
    "confusion_matrix = ConfusionMatrix(y_test, y_pred)\n",
    "print(\"Confusion matrix:\\n%s\" % confusion_matrix)\n",
    " "
   ]
  },
  {
   "cell_type": "code",
   "execution_count": 37,
   "metadata": {},
   "outputs": [
    {
     "data": {
      "text/plain": [
       "<matplotlib.axes._subplots.AxesSubplot at 0x117dc8048>"
      ]
     },
     "execution_count": 37,
     "metadata": {},
     "output_type": "execute_result"
    },
    {
     "data": {
      "image/png": "[encoded data removed]",
      "text/plain": [
       "<matplotlib.figure.Figure at 0x118201e10>"
      ]
     },
     "metadata": {},
     "output_type": "display_data"
    }
   ],
   "source": [
    "confusion_matrix.plot()"
   ]
  },
  {
   "cell_type": "markdown",
   "metadata": {},
   "source": [
    "## Corelation Matrix for the Features "
   ]
  },
  {
   "cell_type": "code",
   "execution_count": 48,
   "metadata": {},
   "outputs": [
    {
     "data": {
      "text/plain": [
       "<matplotlib.axes._subplots.AxesSubplot at 0x118adbe80>"
      ]
     },
     "execution_count": 48,
     "metadata": {},
     "output_type": "execute_result"
    },
    {
     "data": {
      "image/png": "[encoded data removed]",
      "text/plain": [
       "<matplotlib.figure.Figure at 0x1181b0400>"
      ]
     },
     "metadata": {},
     "output_type": "display_data"
    }
   ],
   "source": [
    "import seaborn as sns\n",
    "corr =firedata.corr()\n",
    "sns.heatmap(corr, \n",
    "            xticklabels=corr.columns.values,\n",
    "            yticklabels=corr.columns.values)"
   ]
  },
  {
   "cell_type": "markdown",
   "metadata": {},
   "source": [
    "## Decision Tree Classifier "
   ]
  },
  {
   "cell_type": "code",
   "execution_count": 44,
   "metadata": {},
   "outputs": [
    {
     "name": "stdout",
     "output_type": "stream",
     "text": [
      "Classification Report\n",
      "              precision    recall  f1-score   support\n",
      "\n",
      "           0       0.48      0.50      0.49     56226\n",
      "           1       0.30      0.31      0.31     15064\n",
      "           2       0.20      0.21      0.21     12234\n",
      "           3       0.49      0.48      0.49     85911\n",
      "           4       0.27      0.28      0.28     29382\n",
      "           5       0.25      0.25      0.25      2258\n",
      "           6       0.67      0.65      0.66     55823\n",
      "           7       0.44      0.43      0.43     64846\n",
      "           8       0.84      0.84      0.84     33540\n",
      "           9       0.13      0.13      0.13      2982\n",
      "          10       0.37      0.38      0.38      6587\n",
      "          11       0.12      0.12      0.12     10490\n",
      "          12       0.07      0.07      0.07       750\n",
      "\n",
      "   micro avg       0.49      0.49      0.49    376093\n",
      "   macro avg       0.36      0.36      0.36    376093\n",
      "weighted avg       0.49      0.49      0.49    376093\n",
      "\n",
      "Accuracy score: 0.48500503864735584\n"
     ]
    }
   ],
   "source": [
    "from sklearn import tree\n",
    "clf = tree.DecisionTreeClassifier()\n",
    "clf = clf.fit(X_train,y_train)\n",
    "\n",
    "y_pred = clf.predict(X_test)\n",
    "\n",
    "\n",
    "from sklearn.metrics import classification_report,accuracy_score  \n",
    "print(\"Classification Report\")\n",
    "print(classification_report(y_test,y_pred))  \n",
    "\n",
    "print(\"Accuracy score:\",accuracy_score(y_test,y_pred))"
   ]
  },
  {
   "cell_type": "markdown",
   "metadata": {},
   "source": [
    "## Predict fire severity(fire class)"
   ]
  },
  {
   "cell_type": "code",
   "execution_count": 51,
   "metadata": {},
   "outputs": [
    {
     "name": "stdout",
     "output_type": "stream",
     "text": [
      "Classification Report\n"
     ]
    },
    {
     "name": "stderr",
     "output_type": "stream",
     "text": [
      "/anaconda3/lib/python3.6/site-packages/sklearn/metrics/classification.py:1143: UndefinedMetricWarning:\n",
      "\n",
      "Precision and F-score are ill-defined and being set to 0.0 in labels with no predicted samples.\n",
      "\n"
     ]
    },
    {
     "name": "stdout",
     "output_type": "stream",
     "text": [
      "              precision    recall  f1-score   support\n",
      "\n",
      "           0       0.56      0.48      0.51    133422\n",
      "           1       0.57      0.79      0.66    187913\n",
      "           2       0.00      0.00      0.00     43943\n",
      "           3       0.00      0.00      0.00      5676\n",
      "           4       0.00      0.00      0.00      2794\n",
      "           5       0.00      0.00      0.00      1521\n",
      "           6       0.07      0.20      0.10       824\n",
      "\n",
      "   micro avg       0.56      0.56      0.56    376093\n",
      "   macro avg       0.17      0.21      0.18    376093\n",
      "weighted avg       0.48      0.56      0.51    376093\n",
      "\n",
      "Score for Naive Baye's: 0.5617885735708987\n",
      "Accuracy score: 0.5628607817747207\n"
     ]
    },
    {
     "data": {
      "text/plain": [
       "1362667    1\n",
       "373919     1\n",
       "484960     2\n",
       "613044     1\n",
       "439291     2\n",
       "477050     2\n",
       "1650630    0\n",
       "414526     1\n",
       "968309     1\n",
       "1351053    1\n",
       "332457     0\n",
       "732196     0\n",
       "1687586    0\n",
       "775640     1\n",
       "1473608    1\n",
       "1615608    1\n",
       "1837778    0\n",
       "783596     1\n",
       "1223853    1\n",
       "1512564    0\n",
       "1253719    0\n",
       "1422563    1\n",
       "126062     0\n",
       "1492764    1\n",
       "322052     0\n",
       "792870     1\n",
       "331457     1\n",
       "1542900    1\n",
       "1840021    0\n",
       "1241178    1\n",
       "          ..\n",
       "169083     0\n",
       "1589548    1\n",
       "1395416    1\n",
       "922031     1\n",
       "1744096    1\n",
       "1230904    0\n",
       "864337     1\n",
       "709144     2\n",
       "720210     0\n",
       "520438     1\n",
       "548542     1\n",
       "140219     1\n",
       "1607057    0\n",
       "899977     1\n",
       "370898     2\n",
       "859995     1\n",
       "332875     0\n",
       "124320     1\n",
       "1614234    1\n",
       "1334107    1\n",
       "1784843    1\n",
       "5275       1\n",
       "995435     1\n",
       "481281     1\n",
       "1506162    2\n",
       "1756520    1\n",
       "887779     2\n",
       "1197347    1\n",
       "532971     1\n",
       "1036399    0\n",
       "Name: FIRE_SIZE_CLASS, Length: 376093, dtype: int64"
      ]
     },
     "execution_count": 51,
     "metadata": {},
     "output_type": "execute_result"
    }
   ],
   "source": [
    "from sklearn import preprocessing\n",
    "enc = preprocessing.LabelEncoder()\n",
    "firedata['STAT_CAUSE_DESCR'] = enc.fit_transform(firedata['STAT_CAUSE_DESCR'])\n",
    "firedata['DAY_OF_WEEK'] = enc.fit_transform(firedata['DAY_OF_WEEK'])\n",
    "firedata['MONTH'] = enc.fit_transform(firedata['MONTH'])\n",
    "firedata['FIRE_SIZE_CLASS'] = enc.fit_transform(firedata['FIRE_SIZE_CLASS'])\n",
    "firedata['STATE'] = enc.fit_transform(firedata['STATE'])\n",
    "X = firedata[['FIRE_YEAR','DAY_OF_WEEK','MONTH','STATE', 'LATITUDE','LONGITUDE','STAT_CAUSE_DESCR']]\n",
    "y = firedata['FIRE_SIZE_CLASS']\n",
    "\n",
    "from sklearn.model_selection import train_test_split \n",
    "X_train, X_test, y_train, y_test = train_test_split(X,y, test_size=0.2)\n",
    "from sklearn.naive_bayes import GaussianNB\n",
    "model = GaussianNB()\n",
    "model.fit(X_train,y_train)\n",
    "y_pred = model.predict(X_test)\n",
    "\n",
    "\n",
    "\n",
    "from sklearn.metrics import classification_report,accuracy_score  \n",
    "print(\"Classification Report\")\n",
    "print(classification_report(y_test,y_pred))  \n",
    "print(\"Score for Naive Baye's:\",model.score(X_train, y_train))\n",
    "print(\"Accuracy score:\",accuracy_score(y_test,y_pred))\n",
    "\n",
    "print\n",
    "y_test"
   ]
  },
  {
   "cell_type": "code",
   "execution_count": 46,
   "metadata": {},
   "outputs": [
    {
     "name": "stdout",
     "output_type": "stream",
     "text": [
      "Confusion matrix:\n",
      "Predicted    0.0    1.0  2.0  3.0  4.0  5.0  6.0  __all__\n",
      "Actual                                                   \n",
      "0.0        12252  27066    0    0    0    0  269    39587\n",
      "1.0         7769  17986    0    0    0    0  149    25904\n",
      "2.0         1848   4275    0    0    0    0   28     6151\n",
      "3.0          430    960    0    0    0    0   11     1401\n",
      "4.0          300    676    0    0    0    0    9      985\n",
      "5.0          194    491    0    0    0    0    4      689\n",
      "6.0          129    302    0    0    0    0    2      433\n",
      "__all__    22922  51756    0    0    0    0  472    75150\n"
     ]
    }
   ],
   "source": [
    "confusion_matrix = ConfusionMatrix(y_test, y_pred)\n",
    "print(\"Confusion matrix:\\n%s\" % confusion_matrix)\n",
    " "
   ]
  },
  {
   "cell_type": "code",
   "execution_count": null,
   "metadata": {
    "collapsed": true
   },
   "outputs": [],
   "source": []
  }
 ],
 "metadata": {
  "kernelspec": {
   "display_name": "Python 3",
   "language": "python",
   "name": "python3"
  },
  "language_info": {
   "codemirror_mode": {
    "name": "ipython",
    "version": 3
   },
   "file_extension": ".py",
   "mimetype": "text/x-python",
   "name": "python",
   "nbconvert_exporter": "python",
   "pygments_lexer": "ipython3",
   "version": "3.6.3"
  }
 },
 "nbformat": 4,
 "nbformat_minor": 2
}
