{
 "cells": [
  {
   "cell_type": "code",
   "execution_count": 2,
   "metadata": {
    "colab": {},
    "colab_type": "code",
    "id": "jzJ-SmmC5hPS"
   },
   "outputs": [],
   "source": [
    "import datetime as dt\n",
    "import sqlite3\n",
    "import numpy as np\n",
    "import pandas as pd\n",
    "import matplotlib.pyplot as plt"
   ]
  },
  {
   "cell_type": "code",
   "execution_count": 3,
   "metadata": {
    "colab": {},
    "colab_type": "code",
    "id": "Wdb35soG5hPV"
   },
   "outputs": [],
   "source": [
    "conn = sqlite3.connect('data/FPA_FOD_20170508.sqlite')"
   ]
  },
  {
   "cell_type": "markdown",
   "metadata": {},
   "source": [
    "# Data Pre-Processing"
   ]
  },
  {
   "cell_type": "markdown",
   "metadata": {},
   "source": [
    "## Feature Selection from the dataset"
   ]
  },
  {
   "cell_type": "code",
   "execution_count": 4,
   "metadata": {
    "colab": {},
    "colab_type": "code",
    "id": "9tzUU0ZH5hPY"
   },
   "outputs": [],
   "source": [
    "df = pd.read_sql_query(\"SELECT STAT_CAUSE_DESCR,LATITUDE,LONGITUDE,STATE,DISCOVERY_DATE,FIRE_SIZE,SOURCE_REPORTING_UNIT_NAME,FIRE_SIZE_CLASS,FIRE_YEAR,CONT_DATE FROM 'Fires'\", conn)"
   ]
  },
  {
   "cell_type": "code",
   "execution_count": 5,
   "metadata": {
    "colab": {
     "base_uri": "https://localhost:8080/",
     "height": 119
    },
    "colab_type": "code",
    "id": "ZdcsgGxw5hPa",
    "outputId": "20b3c0e4-492a-4871-962d-1f880927b050"
   },
   "outputs": [
    {
     "name": "stdout",
     "output_type": "stream",
     "text": [
      "  STAT_CAUSE_DESCR   LATITUDE   LONGITUDE STATE  DISCOVERY_DATE  FIRE_SIZE  \\\n",
      "0    Miscellaneous  40.036944 -121.005833    CA       2453403.5       0.10   \n",
      "1        Lightning  38.933056 -120.404444    CA       2453137.5       0.25   \n",
      "2   Debris Burning  38.984167 -120.735556    CA       2453156.5       0.10   \n",
      "3        Lightning  38.559167 -119.913333    CA       2453184.5       0.10   \n",
      "4        Lightning  38.559167 -119.933056    CA       2453184.5       0.10   \n",
      "\n",
      "  SOURCE_REPORTING_UNIT_NAME FIRE_SIZE_CLASS  FIRE_YEAR  CONT_DATE  \n",
      "0     Plumas National Forest               A       2005  2453403.5  \n",
      "1   Eldorado National Forest               A       2004  2453137.5  \n",
      "2   Eldorado National Forest               A       2004  2453156.5  \n",
      "3   Eldorado National Forest               A       2004  2453189.5  \n",
      "4   Eldorado National Forest               A       2004  2453189.5  \n"
     ]
    }
   ],
   "source": [
    "print(df.head())"
   ]
  },
  {
   "cell_type": "markdown",
   "metadata": {},
   "source": [
    "## Convert date from Julian to Gregorian calendar format"
   ]
  },
  {
   "cell_type": "code",
   "execution_count": 7,
   "metadata": {
    "colab": {},
    "colab_type": "code",
    "id": "2Rl1L93z5hPe"
   },
   "outputs": [],
   "source": [
    "df['DISCOVERY_DATE'] = pd.to_datetime(df['DISCOVERY_DATE'] - pd.Timestamp(0).to_julian_date(), unit='D')\n",
    "df['DAY_OF_WEEK'] = pd.to_datetime(df['DISCOVERY_DATE']).dt.weekday_name\n",
    "df['MONTH'] = pd.DatetimeIndex(df['DISCOVERY_DATE']).month\n",
    "df['CONT_DATE'] = pd.to_datetime(df['CONT_DATE'] - pd.Timestamp(0).to_julian_date(), unit='D')"
   ]
  },
  {
   "cell_type": "code",
   "execution_count": 9,
   "metadata": {},
   "outputs": [
    {
     "name": "stdout",
     "output_type": "stream",
     "text": [
      "  STAT_CAUSE_DESCR   LATITUDE   LONGITUDE STATE DISCOVERY_DATE  FIRE_SIZE  \\\n",
      "0    Miscellaneous  40.036944 -121.005833    CA     2005-02-02       0.10   \n",
      "1        Lightning  38.933056 -120.404444    CA     2004-05-12       0.25   \n",
      "2   Debris Burning  38.984167 -120.735556    CA     2004-05-31       0.10   \n",
      "3        Lightning  38.559167 -119.913333    CA     2004-06-28       0.10   \n",
      "4        Lightning  38.559167 -119.933056    CA     2004-06-28       0.10   \n",
      "\n",
      "  SOURCE_REPORTING_UNIT_NAME FIRE_SIZE_CLASS  FIRE_YEAR  CONT_DATE       DATE  \\\n",
      "0     Plumas National Forest               A       2005 2005-02-02 2005-02-02   \n",
      "1   Eldorado National Forest               A       2004 2004-05-12 2004-05-12   \n",
      "2   Eldorado National Forest               A       2004 2004-05-31 2004-05-31   \n",
      "3   Eldorado National Forest               A       2004 2004-07-03 2004-06-28   \n",
      "4   Eldorado National Forest               A       2004 2004-07-03 2004-06-28   \n",
      "\n",
      "  DAY_OF_WEEK  MONTH  \n",
      "0   Wednesday      2  \n",
      "1   Wednesday      5  \n",
      "2      Monday      5  \n",
      "3      Monday      6  \n",
      "4      Monday      6  \n"
     ]
    }
   ],
   "source": [
    "print(df.head())"
   ]
  },
  {
   "cell_type": "markdown",
   "metadata": {},
   "source": [
    "# Charts"
   ]
  },
  {
   "cell_type": "code",
   "execution_count": 27,
   "metadata": {
    "colab": {
     "base_uri": "https://localhost:8080/",
     "height": 269
    },
    "colab_type": "code",
    "id": "njii7Uek5hPg",
    "outputId": "88ffea5b-7029-4a1e-96ce-837971e03d51"
   },
   "outputs": [
    {
     "data": {
      "image/png": "[encoded data removed]",
      "text/plain": [
       "<Figure size 432x288 with 1 Axes>"
      ]
     },
     "metadata": {
      "needs_background": "light"
     },
     "output_type": "display_data"
    }
   ],
   "source": [
    "df['DAY_OF_WEEK'].value_counts().plot(kind='barh',color='coral', title =\"Wild Fires by Day\")\n",
    "plt.show()"
   ]
  },
  {
   "cell_type": "code",
   "execution_count": 25,
   "metadata": {},
   "outputs": [
    {
     "data": {
      "image/png": "[encoded data removed]",
      "text/plain": [
       "<Figure size 1296x432 with 1 Axes>"
      ]
     },
     "metadata": {
      "needs_background": "light"
     },
     "output_type": "display_data"
    }
   ],
   "source": [
    "df['STATE'].value_counts().plot(kind='bar',color='green', figsize=(18, 6), title =\"Wild Fires by States\")\n",
    "plt.show()"
   ]
  },
  {
   "cell_type": "code",
   "execution_count": 19,
   "metadata": {
    "colab": {},
    "colab_type": "code",
    "id": "VJAL65ge5hPj"
   },
   "outputs": [],
   "source": [
    "cause_df = df.groupby(['STAT_CAUSE_DESCR']).size().reset_index(name='COUNT')"
   ]
  },
  {
   "cell_type": "code",
   "execution_count": 20,
   "metadata": {
    "colab": {
     "base_uri": "https://localhost:8080/",
     "height": 255
    },
    "colab_type": "code",
    "id": "7ZZyR_9X5hPl",
    "outputId": "5ab2441c-dd61-476a-8acc-54bc4079551d"
   },
   "outputs": [
    {
     "name": "stdout",
     "output_type": "stream",
     "text": [
      "     STAT_CAUSE_DESCR   COUNT\n",
      "0               Arson  281455\n",
      "1            Campfire   76139\n",
      "2            Children   61167\n",
      "3      Debris Burning  429028\n",
      "4       Equipment Use  147612\n",
      "5           Fireworks   11500\n",
      "6           Lightning  278468\n",
      "7       Miscellaneous  323805\n",
      "8   Missing/Undefined  166723\n",
      "9           Powerline   14448\n",
      "10           Railroad   33455\n",
      "11            Smoking   52869\n",
      "12          Structure    3796\n"
     ]
    }
   ],
   "source": [
    "print(cause_df)"
   ]
  },
  {
   "cell_type": "code",
   "execution_count": 35,
   "metadata": {
    "colab": {
     "base_uri": "https://localhost:8080/",
     "height": 368
    },
    "colab_type": "code",
    "id": "d-EgZxoO5hPo",
    "outputId": "e6b9e112-c45f-4cc5-f6fe-ba871d8a5bf7"
   },
   "outputs": [
    {
     "data": {
      "text/plain": [
       "<matplotlib.axes._subplots.AxesSubplot at 0x149cd2b00>"
      ]
     },
     "execution_count": 35,
     "metadata": {},
     "output_type": "execute_result"
    },
    {
     "data": {
      "image/png": "[encoded data removed]",
      "text/plain": [
       "<Figure size 432x288 with 1 Axes>"
      ]
     },
     "metadata": {
      "needs_background": "light"
     },
     "output_type": "display_data"
    }
   ],
   "source": [
    "df['STAT_CAUSE_DESCR'].value_counts().plot(kind='bar', title =\"Wild Fires by Cause\")"
   ]
  },
  {
   "cell_type": "markdown",
   "metadata": {},
   "source": [
    "# Support Vector Machine (SVM)"
   ]
  },
  {
   "cell_type": "code",
   "execution_count": 45,
   "metadata": {
    "colab": {
     "base_uri": "https://localhost:8080/",
     "height": 238
    },
    "colab_type": "code",
    "id": "7eeNdIa45hPr",
    "outputId": "96b92d4f-1ecb-4ef2-c498-2d96c7440506"
   },
   "outputs": [
    {
     "name": "stdout",
     "output_type": "stream",
     "text": [
      "   STAT_CAUSE_DESCR   LATITUDE   LONGITUDE  STATE DISCOVERY_DATE  FIRE_SIZE  \\\n",
      "0                 6  40.036944 -121.005833      4     2005-02-02       0.10   \n",
      "1                 5  38.933056 -120.404444      4     2004-05-12       0.25   \n",
      "2                 3  38.984167 -120.735556      4     2004-05-31       0.10   \n",
      "3                 5  38.559167 -119.913333      4     2004-06-28       0.10   \n",
      "4                 5  38.559167 -119.933056      4     2004-06-28       0.10   \n",
      "\n",
      "  SOURCE_REPORTING_UNIT_NAME  FIRE_SIZE_CLASS  FIRE_YEAR  CONT_DATE  \\\n",
      "0     Plumas National Forest                0       2005 2005-02-02   \n",
      "1   Eldorado National Forest                0       2004 2004-05-12   \n",
      "2   Eldorado National Forest                0       2004 2004-05-31   \n",
      "3   Eldorado National Forest                0       2004 2004-07-03   \n",
      "4   Eldorado National Forest                0       2004 2004-07-03   \n",
      "\n",
      "                  DATE  DAY_OF_WEEK  MONTH  \n",
      "0  1107302400000000000            6      1  \n",
      "1  1084320000000000000            6      4  \n",
      "2  1085961600000000000            1      4  \n",
      "3  1088380800000000000            1      5  \n",
      "4  1088380800000000000            1      5  \n"
     ]
    }
   ],
   "source": [
    "from sklearn import preprocessing\n",
    "le = preprocessing.LabelEncoder()\n",
    "df['STAT_CAUSE_DESCR'] = le.fit_transform(df['STAT_CAUSE_DESCR'])\n",
    "df['STATE'] = le.fit_transform(df['STATE'])\n",
    "df['DAY_OF_WEEK'] = le.fit_transform(df['DAY_OF_WEEK'])\n",
    "df['MONTH'] = le.fit_transform(df['MONTH'])\n",
    "df['FIRE_SIZE_CLASS'] = le.fit_transform(df['FIRE_SIZE_CLASS'])\n",
    "print(df.head())"
   ]
  },
  {
   "cell_type": "code",
   "execution_count": 58,
   "metadata": {
    "colab": {
     "base_uri": "https://localhost:8080/",
     "height": 85
    },
    "colab_type": "code",
    "id": "eBFU0MBS5hPw",
    "outputId": "2ddf817c-eea8-4063-b552-467c7ed024fb"
   },
   "outputs": [
    {
     "data": {
      "text/plain": [
       "SVC(C=1.0, cache_size=200, class_weight=None, coef0=0.0,\n",
       "  decision_function_shape='ovr', degree=3, gamma='scale', kernel='rbf',\n",
       "  max_iter=-1, probability=False, random_state=None, shrinking=True,\n",
       "  tol=0.001, verbose=False)"
      ]
     },
     "execution_count": 58,
     "metadata": {},
     "output_type": "execute_result"
    }
   ],
   "source": [
    "from sklearn import svm\n",
    "from sklearn.model_selection import train_test_split  \n",
    "\n",
    "X = df[['FIRE_YEAR','DAY_OF_WEEK','MONTH','STATE', 'LATITUDE','LONGITUDE','FIRE_SIZE_CLASS']]\n",
    "y = df['STAT_CAUSE_DESCR']\n",
    "\n",
    "df = df.head(50000)\n",
    "X_train, X_test, y_train, y_test = train_test_split(X,y, test_size=0.20)\n",
    "model = svm.SVC(gamma='scale')\n",
    "\n",
    "model.fit(X_train, y_train)"
   ]
  },
  {
   "cell_type": "code",
   "execution_count": 56,
   "metadata": {
    "colab": {
     "base_uri": "https://localhost:8080/",
     "height": 34
    },
    "colab_type": "code",
    "id": "27vBwyAkEv1D",
    "outputId": "01764a95-533c-4446-f590-3857c7e83508"
   },
   "outputs": [
    {
     "data": {
      "text/plain": [
       "array([5, 5, 5, ..., 5, 5, 5])"
      ]
     },
     "execution_count": 56,
     "metadata": {},
     "output_type": "execute_result"
    }
   ],
   "source": [
    "y_pred = model.predict(X_test)\n",
    "y_pred "
   ]
  },
  {
   "cell_type": "code",
   "execution_count": 57,
   "metadata": {},
   "outputs": [
    {
     "name": "stdout",
     "output_type": "stream",
     "text": [
      "Classification Report\n",
      "              precision    recall  f1-score   support\n",
      "\n",
      "           0       0.36      0.60      0.45       779\n",
      "           1       0.21      0.00      0.01      1329\n",
      "           2       0.00      0.00      0.00        80\n",
      "           3       0.16      0.02      0.03       496\n",
      "           4       0.00      0.00      0.00       354\n",
      "           5       0.62      0.97      0.75      5424\n",
      "           6       0.25      0.02      0.04      1298\n",
      "           7       0.00      0.00      0.00        42\n",
      "           8       0.00      0.00      0.00       198\n",
      "\n",
      "   micro avg       0.58      0.58      0.58     10000\n",
      "   macro avg       0.18      0.18      0.14     10000\n",
      "weighted avg       0.43      0.58      0.45     10000\n",
      "\n"
     ]
    },
    {
     "name": "stderr",
     "output_type": "stream",
     "text": [
      "/anaconda3/lib/python3.7/site-packages/sklearn/metrics/classification.py:1143: UndefinedMetricWarning: Precision and F-score are ill-defined and being set to 0.0 in labels with no predicted samples.\n",
      "  'precision', 'predicted', average, warn_for)\n"
     ]
    },
    {
     "name": "stdout",
     "output_type": "stream",
     "text": [
      "Score for SVM is: 0.58595\n",
      "Accuracy score: 0.5751\n"
     ]
    }
   ],
   "source": [
    "from sklearn.metrics import classification_report,accuracy_score  \n",
    "print(\"Classification Report\")\n",
    "print(classification_report(y_test,y_pred))  \n",
    "print(\"Score for SVM is:\",model.score(X_train, y_train))\n",
    "print(\"Accuracy score:\",accuracy_score(y_test,y_pred))"
   ]
  },
  {
   "cell_type": "markdown",
   "metadata": {},
   "source": [
    "# Confusion Matrix"
   ]
  },
  {
   "cell_type": "code",
   "execution_count": 71,
   "metadata": {},
   "outputs": [
    {
     "name": "stdout",
     "output_type": "stream",
     "text": [
      "Confusion matrix:\n",
      "Predicted    0  1  2  3  4     5   6  7  8  __all__\n",
      "Actual                                             \n",
      "0           28  1  0  1  0   197   2  0  0      229\n",
      "1           32  0  0  0  0   237   2  0  0      271\n",
      "2            1  0  0  0  0    14   0  0  0       15\n",
      "3           22  0  0  0  0    90   1  0  0      113\n",
      "4            9  1  0  1  0    59   0  0  0       70\n",
      "5          141  2  0  4  0   867  13  0  0     1027\n",
      "6           27  1  0  0  0   223   2  0  0      253\n",
      "7            0  0  0  0  0     4   0  0  0        4\n",
      "8            2  0  0  0  0    34   0  0  0       36\n",
      "__all__    262  5  0  6  0  1725  20  0  0     2018\n"
     ]
    },
    {
     "name": "stderr",
     "output_type": "stream",
     "text": [
      "/anaconda3/lib/python3.7/site-packages/pandas_ml/confusion_matrix/abstract.py:66: FutureWarning: \n",
      "Passing list-likes to .loc or [] with any missing label will raise\n",
      "KeyError in the future, you can use .reindex() as an alternative.\n",
      "\n",
      "See the documentation here:\n",
      "https://pandas.pydata.org/pandas-docs/stable/indexing.html#deprecate-loc-reindex-listlike\n",
      "  df = df.loc[idx, idx.copy()].fillna(0)  # if some columns or rows are missing\n"
     ]
    }
   ],
   "source": [
    "from pandas_ml import ConfusionMatrix\n",
    "\n",
    "confusion_matrix = ConfusionMatrix(y_test, y_pred)\n",
    "print(\"Confusion matrix:\\n%s\" % confusion_matrix)"
   ]
  },
  {
   "cell_type": "code",
   "execution_count": 72,
   "metadata": {},
   "outputs": [
    {
     "data": {
      "text/plain": [
       "<matplotlib.axes._subplots.AxesSubplot at 0x147cddb00>"
      ]
     },
     "execution_count": 72,
     "metadata": {},
     "output_type": "execute_result"
    },
    {
     "data": {
      "image/png": "[encoded data removed]",
      "text/plain": [
       "<Figure size 648x576 with 2 Axes>"
      ]
     },
     "metadata": {
      "needs_background": "light"
     },
     "output_type": "display_data"
    }
   ],
   "source": [
    "confusion_matrix.plot()"
   ]
  },
  {
   "cell_type": "markdown",
   "metadata": {},
   "source": [
    "# Corelation Matrix"
   ]
  },
  {
   "cell_type": "code",
   "execution_count": 73,
   "metadata": {},
   "outputs": [
    {
     "data": {
      "text/plain": [
       "<matplotlib.axes._subplots.AxesSubplot at 0x147bee7b8>"
      ]
     },
     "execution_count": 73,
     "metadata": {},
     "output_type": "execute_result"
    },
    {
     "data": {
      "image/png": "[encoded data removed]",
      "text/plain": [
       "<Figure size 432x288 with 2 Axes>"
      ]
     },
     "metadata": {
      "needs_background": "light"
     },
     "output_type": "display_data"
    }
   ],
   "source": [
    "import seaborn as sns\n",
    "corr = df.corr()\n",
    "sns.heatmap(corr, \n",
    "            xticklabels=corr.columns.values,\n",
    "            yticklabels=corr.columns.values)"
   ]
  },
  {
   "cell_type": "markdown",
   "metadata": {},
   "source": [
    "# Decision Tree Classifier"
   ]
  },
  {
   "cell_type": "code",
   "execution_count": 76,
   "metadata": {},
   "outputs": [
    {
     "name": "stdout",
     "output_type": "stream",
     "text": [
      "Classification Report\n",
      "              precision    recall  f1-score   support\n",
      "\n",
      "           0       0.46      0.48      0.47       750\n",
      "           1       0.37      0.40      0.38      1308\n",
      "           2       0.06      0.05      0.05        86\n",
      "           3       0.26      0.25      0.26       497\n",
      "           4       0.26      0.25      0.26       344\n",
      "           5       0.82      0.81      0.82      5553\n",
      "           6       0.30      0.31      0.30      1253\n",
      "           7       0.21      0.29      0.25        34\n",
      "           8       0.07      0.07      0.07       175\n",
      "\n",
      "   micro avg       0.60      0.60      0.60     10000\n",
      "   macro avg       0.31      0.32      0.32     10000\n",
      "weighted avg       0.60      0.60      0.60     10000\n",
      "\n",
      "Accuracy score: 0.5986\n"
     ]
    }
   ],
   "source": [
    "from sklearn import tree\n",
    "clf = tree.DecisionTreeClassifier()\n",
    "\n",
    "clf = clf.fit(X_train,y_train)\n",
    "y_pred = clf.predict(X_test)\n",
    "\n",
    "print(\"Classification Report\")\n",
    "print(classification_report(y_test,y_pred))  \n",
    "\n",
    "print(\"Accuracy score:\",accuracy_score(y_test,y_pred))"
   ]
  },
  {
   "cell_type": "code",
   "execution_count": null,
   "metadata": {},
   "outputs": [],
   "source": []
  }
 ],
 "metadata": {
  "colab": {
   "collapsed_sections": [],
   "name": "Analysis.ipynb",
   "provenance": [],
   "version": "0.3.2"
  },
  "kernelspec": {
   "display_name": "Python 3",
   "language": "python",
   "name": "python3"
  },
  "language_info": {
   "codemirror_mode": {
    "name": "ipython",
    "version": 3
   },
   "file_extension": ".py",
   "mimetype": "text/x-python",
   "name": "python",
   "nbconvert_exporter": "python",
   "pygments_lexer": "ipython3",
   "version": "3.7.1"
  }
 },
 "nbformat": 4,
 "nbformat_minor": 1
}
