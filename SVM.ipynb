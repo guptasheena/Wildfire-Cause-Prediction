{
 "cells": [
  {
   "cell_type": "code",
   "execution_count": 23,
   "metadata": {
    "colab": {},
    "colab_type": "code",
    "id": "jzJ-SmmC5hPS"
   },
   "outputs": [],
   "source": [
    "import datetime as dt\n",
    "import sqlite3\n",
    "import numpy as np\n",
    "import pandas as pd\n",
    "import matplotlib.pyplot as plt\n",
    "from preprocessing_scripts.labels import labels"
   ]
  },
  {
   "cell_type": "code",
   "execution_count": 24,
   "metadata": {
    "colab": {},
    "colab_type": "code",
    "id": "Wdb35soG5hPV"
   },
   "outputs": [],
   "source": [
    "conn = sqlite3.connect('data/FPA_FOD_20170508.sqlite')"
   ]
  },
  {
   "cell_type": "markdown",
   "metadata": {},
   "source": [
    "# Data Pre-Processing"
   ]
  },
  {
   "cell_type": "markdown",
   "metadata": {},
   "source": [
    "## Feature Selection from the dataset"
   ]
  },
  {
   "cell_type": "code",
   "execution_count": 25,
   "metadata": {
    "colab": {},
    "colab_type": "code",
    "id": "9tzUU0ZH5hPY"
   },
   "outputs": [],
   "source": [
    "df = pd.read_sql_query(\"SELECT STAT_CAUSE_DESCR,LATITUDE,LONGITUDE,STATE,DISCOVERY_DATE,FIRE_SIZE,FIRE_SIZE_CLASS FROM 'Fires'\", conn)\n",
    "#df = pd.read_csv('data/train.csv',usecols = ['STAT_CAUSE_DESCR','LATITUDE','LONGITUDE','DISCOVERY_DATE','FIRE_SIZE','STATE'])"
   ]
  },
  {
   "cell_type": "code",
   "execution_count": 26,
   "metadata": {
    "colab": {
     "base_uri": "https://localhost:8080/",
     "height": 119
    },
    "colab_type": "code",
    "id": "ZdcsgGxw5hPa",
    "outputId": "20b3c0e4-492a-4871-962d-1f880927b050"
   },
   "outputs": [
    {
     "name": "stdout",
     "output_type": "stream",
     "text": [
      "  STAT_CAUSE_DESCR   LATITUDE   LONGITUDE STATE  DISCOVERY_DATE  FIRE_SIZE  \\\n",
      "0    Miscellaneous  40.036944 -121.005833    CA       2453403.5       0.10   \n",
      "1        Lightning  38.933056 -120.404444    CA       2453137.5       0.25   \n",
      "2   Debris Burning  38.984167 -120.735556    CA       2453156.5       0.10   \n",
      "3        Lightning  38.559167 -119.913333    CA       2453184.5       0.10   \n",
      "4        Lightning  38.559167 -119.933056    CA       2453184.5       0.10   \n",
      "\n",
      "  FIRE_SIZE_CLASS  \n",
      "0               A  \n",
      "1               A  \n",
      "2               A  \n",
      "3               A  \n",
      "4               A  \n"
     ]
    }
   ],
   "source": [
    "print(df.head())"
   ]
  },
  {
   "cell_type": "markdown",
   "metadata": {},
   "source": [
    "## Convert date from Julian to Gregorian calendar format"
   ]
  },
  {
   "cell_type": "code",
   "execution_count": 27,
   "metadata": {
    "colab": {},
    "colab_type": "code",
    "id": "2Rl1L93z5hPe"
   },
   "outputs": [],
   "source": [
    "df['DISCOVERY_DATE'] = pd.to_datetime(df['DISCOVERY_DATE'] - pd.Timestamp(0).to_julian_date(), unit='D')\n",
    "df['DAY_OF_WEEK'] = pd.to_datetime(df['DISCOVERY_DATE']).dt.weekday_name\n",
    "df['MONTH'] = pd.DatetimeIndex(df['DISCOVERY_DATE']).month"
   ]
  },
  {
   "cell_type": "code",
   "execution_count": 28,
   "metadata": {},
   "outputs": [
    {
     "name": "stdout",
     "output_type": "stream",
     "text": [
      "  STAT_CAUSE_DESCR   LATITUDE   LONGITUDE STATE DISCOVERY_DATE  FIRE_SIZE  \\\n",
      "0    Miscellaneous  40.036944 -121.005833    CA     2005-02-02       0.10   \n",
      "1        Lightning  38.933056 -120.404444    CA     2004-05-12       0.25   \n",
      "2   Debris Burning  38.984167 -120.735556    CA     2004-05-31       0.10   \n",
      "3        Lightning  38.559167 -119.913333    CA     2004-06-28       0.10   \n",
      "4        Lightning  38.559167 -119.933056    CA     2004-06-28       0.10   \n",
      "\n",
      "  FIRE_SIZE_CLASS DAY_OF_WEEK  MONTH  \n",
      "0               A   Wednesday      2  \n",
      "1               A   Wednesday      5  \n",
      "2               A      Monday      5  \n",
      "3               A      Monday      6  \n",
      "4               A      Monday      6  \n"
     ]
    }
   ],
   "source": [
    "print(df.head())"
   ]
  },
  {
   "cell_type": "markdown",
   "metadata": {},
   "source": [
    "# Charts"
   ]
  },
  {
   "cell_type": "code",
   "execution_count": 7,
   "metadata": {
    "colab": {
     "base_uri": "https://localhost:8080/",
     "height": 269
    },
    "colab_type": "code",
    "id": "njii7Uek5hPg",
    "outputId": "88ffea5b-7029-4a1e-96ce-837971e03d51"
   },
   "outputs": [
    {
     "data": {
      "image/png": "[encoded data removed]",
      "text/plain": [
       "<Figure size 432x288 with 1 Axes>"
      ]
     },
     "metadata": {
      "needs_background": "light"
     },
     "output_type": "display_data"
    }
   ],
   "source": [
    "df['DAY_OF_WEEK'].value_counts().plot(kind='barh',color='coral', title =\"Wild Fires by Day\")\n",
    "plt.show()"
   ]
  },
  {
   "cell_type": "code",
   "execution_count": 8,
   "metadata": {},
   "outputs": [
    {
     "data": {
      "image/png": "[encoded data removed]",
      "text/plain": [
       "<Figure size 1296x432 with 1 Axes>"
      ]
     },
     "metadata": {
      "needs_background": "light"
     },
     "output_type": "display_data"
    }
   ],
   "source": [
    "df['STATE'].value_counts().plot(kind='bar',color='green', figsize=(18, 6), title =\"Wild Fires by States\")\n",
    "plt.show()"
   ]
  },
  {
   "cell_type": "code",
   "execution_count": 9,
   "metadata": {
    "colab": {},
    "colab_type": "code",
    "id": "VJAL65ge5hPj"
   },
   "outputs": [],
   "source": [
    "cause_df = df.groupby(['STAT_CAUSE_DESCR']).size().reset_index(name='COUNT')"
   ]
  },
  {
   "cell_type": "code",
   "execution_count": 10,
   "metadata": {
    "colab": {
     "base_uri": "https://localhost:8080/",
     "height": 255
    },
    "colab_type": "code",
    "id": "7ZZyR_9X5hPl",
    "outputId": "5ab2441c-dd61-476a-8acc-54bc4079551d"
   },
   "outputs": [
    {
     "name": "stdout",
     "output_type": "stream",
     "text": [
      "     STAT_CAUSE_DESCR   COUNT\n",
      "0               Arson  196646\n",
      "1            Campfire   53313\n",
      "2            Children   43120\n",
      "3      Debris Burning  300340\n",
      "4       Equipment Use  103407\n",
      "5           Fireworks    7966\n",
      "6           Lightning  195073\n",
      "7       Miscellaneous  226641\n",
      "8   Missing/Undefined  116740\n",
      "9           Powerline   10134\n",
      "10           Railroad   23531\n",
      "11            Smoking   36770\n",
      "12          Structure    2645\n"
     ]
    }
   ],
   "source": [
    "print(cause_df)"
   ]
  },
  {
   "cell_type": "code",
   "execution_count": 11,
   "metadata": {
    "colab": {
     "base_uri": "https://localhost:8080/",
     "height": 368
    },
    "colab_type": "code",
    "id": "d-EgZxoO5hPo",
    "outputId": "e6b9e112-c45f-4cc5-f6fe-ba871d8a5bf7"
   },
   "outputs": [
    {
     "data": {
      "text/plain": [
       "<matplotlib.axes._subplots.AxesSubplot at 0x123339978>"
      ]
     },
     "execution_count": 11,
     "metadata": {},
     "output_type": "execute_result"
    },
    {
     "data": {
      "image/png": "[encoded data removed]",
      "text/plain": [
       "<Figure size 432x288 with 1 Axes>"
      ]
     },
     "metadata": {
      "needs_background": "light"
     },
     "output_type": "display_data"
    }
   ],
   "source": [
    "df['STAT_CAUSE_DESCR'].value_counts().plot(kind='bar', title =\"Wild Fires by Cause\")"
   ]
  },
  {
   "cell_type": "markdown",
   "metadata": {},
   "source": [
    "# Support Vector Machine (SVM)"
   ]
  },
  {
   "cell_type": "code",
   "execution_count": 29,
   "metadata": {
    "colab": {
     "base_uri": "https://localhost:8080/",
     "height": 238
    },
    "colab_type": "code",
    "id": "7eeNdIa45hPr",
    "outputId": "96b92d4f-1ecb-4ef2-c498-2d96c7440506"
   },
   "outputs": [
    {
     "name": "stderr",
     "output_type": "stream",
     "text": [
      "/Users/sheena/Jupyter/CMPE256/Project/preprocessing_scripts/labels.py:7: SettingWithCopyWarning: \n",
      "A value is trying to be set on a copy of a slice from a DataFrame\n",
      "\n",
      "See the caveats in the documentation: http://pandas.pydata.org/pandas-docs/stable/indexing.html#indexing-view-versus-copy\n",
      "  labels['STAT_CAUSE_DESCR'][labels.STAT_CAUSE_DESCR == 'Arson']=0\n",
      "/Users/sheena/Jupyter/CMPE256/Project/preprocessing_scripts/labels.py:8: SettingWithCopyWarning: \n",
      "A value is trying to be set on a copy of a slice from a DataFrame\n",
      "\n",
      "See the caveats in the documentation: http://pandas.pydata.org/pandas-docs/stable/indexing.html#indexing-view-versus-copy\n",
      "  labels['STAT_CAUSE_DESCR'][labels.STAT_CAUSE_DESCR == 'Lightning']=1\n",
      "/Users/sheena/Jupyter/CMPE256/Project/preprocessing_scripts/labels.py:9: SettingWithCopyWarning: \n",
      "A value is trying to be set on a copy of a slice from a DataFrame\n",
      "\n",
      "See the caveats in the documentation: http://pandas.pydata.org/pandas-docs/stable/indexing.html#indexing-view-versus-copy\n",
      "  labels['STAT_CAUSE_DESCR'][labels.STAT_CAUSE_DESCR == 'Debris Burning']=2\n",
      "/Users/sheena/Jupyter/CMPE256/Project/preprocessing_scripts/labels.py:10: SettingWithCopyWarning: \n",
      "A value is trying to be set on a copy of a slice from a DataFrame\n",
      "\n",
      "See the caveats in the documentation: http://pandas.pydata.org/pandas-docs/stable/indexing.html#indexing-view-versus-copy\n",
      "  labels['STAT_CAUSE_DESCR'][labels.STAT_CAUSE_DESCR == 'Campfire']=3\n",
      "/Users/sheena/Jupyter/CMPE256/Project/preprocessing_scripts/labels.py:11: SettingWithCopyWarning: \n",
      "A value is trying to be set on a copy of a slice from a DataFrame\n",
      "\n",
      "See the caveats in the documentation: http://pandas.pydata.org/pandas-docs/stable/indexing.html#indexing-view-versus-copy\n",
      "  labels['STAT_CAUSE_DESCR'][labels.STAT_CAUSE_DESCR =='Children']=3\n",
      "/Users/sheena/Jupyter/CMPE256/Project/preprocessing_scripts/labels.py:12: SettingWithCopyWarning: \n",
      "A value is trying to be set on a copy of a slice from a DataFrame\n",
      "\n",
      "See the caveats in the documentation: http://pandas.pydata.org/pandas-docs/stable/indexing.html#indexing-view-versus-copy\n",
      "  labels['STAT_CAUSE_DESCR'][labels.STAT_CAUSE_DESCR =='Fireworks']=3\n",
      "/Users/sheena/Jupyter/CMPE256/Project/preprocessing_scripts/labels.py:13: SettingWithCopyWarning: \n",
      "A value is trying to be set on a copy of a slice from a DataFrame\n",
      "\n",
      "See the caveats in the documentation: http://pandas.pydata.org/pandas-docs/stable/indexing.html#indexing-view-versus-copy\n",
      "  labels['STAT_CAUSE_DESCR'][labels.STAT_CAUSE_DESCR =='Powerline']=3\n",
      "/Users/sheena/Jupyter/CMPE256/Project/preprocessing_scripts/labels.py:14: SettingWithCopyWarning: \n",
      "A value is trying to be set on a copy of a slice from a DataFrame\n",
      "\n",
      "See the caveats in the documentation: http://pandas.pydata.org/pandas-docs/stable/indexing.html#indexing-view-versus-copy\n",
      "  labels['STAT_CAUSE_DESCR'][labels.STAT_CAUSE_DESCR =='Railroad']=3\n",
      "/Users/sheena/Jupyter/CMPE256/Project/preprocessing_scripts/labels.py:15: SettingWithCopyWarning: \n",
      "A value is trying to be set on a copy of a slice from a DataFrame\n",
      "\n",
      "See the caveats in the documentation: http://pandas.pydata.org/pandas-docs/stable/indexing.html#indexing-view-versus-copy\n",
      "  labels['STAT_CAUSE_DESCR'][labels.STAT_CAUSE_DESCR =='Smoking']=3\n",
      "/Users/sheena/Jupyter/CMPE256/Project/preprocessing_scripts/labels.py:16: SettingWithCopyWarning: \n",
      "A value is trying to be set on a copy of a slice from a DataFrame\n",
      "\n",
      "See the caveats in the documentation: http://pandas.pydata.org/pandas-docs/stable/indexing.html#indexing-view-versus-copy\n",
      "  labels['STAT_CAUSE_DESCR'][labels.STAT_CAUSE_DESCR =='Structure']=3\n",
      "/Users/sheena/Jupyter/CMPE256/Project/preprocessing_scripts/labels.py:17: SettingWithCopyWarning: \n",
      "A value is trying to be set on a copy of a slice from a DataFrame\n",
      "\n",
      "See the caveats in the documentation: http://pandas.pydata.org/pandas-docs/stable/indexing.html#indexing-view-versus-copy\n",
      "  labels['STAT_CAUSE_DESCR'][labels.STAT_CAUSE_DESCR =='Equipment Use']=3\n",
      "/Users/sheena/Jupyter/CMPE256/Project/preprocessing_scripts/labels.py:18: SettingWithCopyWarning: \n",
      "A value is trying to be set on a copy of a slice from a DataFrame\n",
      "\n",
      "See the caveats in the documentation: http://pandas.pydata.org/pandas-docs/stable/indexing.html#indexing-view-versus-copy\n",
      "  labels['STAT_CAUSE_DESCR'][labels.STAT_CAUSE_DESCR == 'Miscellaneous']=4\n"
     ]
    },
    {
     "name": "stdout",
     "output_type": "stream",
     "text": [
      "   STAT_CAUSE_DESCR   LATITUDE   LONGITUDE  STATE DISCOVERY_DATE  FIRE_SIZE  \\\n",
      "0                 4  40.036944 -121.005833      4     2005-02-02       0.10   \n",
      "1                 1  38.933056 -120.404444      4     2004-05-12       0.25   \n",
      "2                 2  38.984167 -120.735556      4     2004-05-31       0.10   \n",
      "3                 1  38.559167 -119.913333      4     2004-06-28       0.10   \n",
      "4                 1  38.559167 -119.933056      4     2004-06-28       0.10   \n",
      "\n",
      "  FIRE_SIZE_CLASS  DAY_OF_WEEK  MONTH  \n",
      "0               A            6      1  \n",
      "1               A            6      4  \n",
      "2               A            1      4  \n",
      "3               A            1      5  \n",
      "4               A            1      5  \n"
     ]
    },
    {
     "name": "stderr",
     "output_type": "stream",
     "text": [
      "/Users/sheena/Jupyter/CMPE256/Project/preprocessing_scripts/labels.py:19: SettingWithCopyWarning: \n",
      "A value is trying to be set on a copy of a slice from a DataFrame\n",
      "\n",
      "See the caveats in the documentation: http://pandas.pydata.org/pandas-docs/stable/indexing.html#indexing-view-versus-copy\n",
      "  labels['STAT_CAUSE_DESCR'][labels.STAT_CAUSE_DESCR == 'Missing/Undefined']=4\n"
     ]
    }
   ],
   "source": [
    "from sklearn import preprocessing\n",
    "le = preprocessing.LabelEncoder()\n",
    "# df['STAT_CAUSE_DESCR'] = le.fit_transform(df['STAT_CAUSE_DESCR'])\n",
    "df['STATE'] = le.fit_transform(df['STATE'])\n",
    "df['DAY_OF_WEEK'] = le.fit_transform(df['DAY_OF_WEEK'])\n",
    "df['MONTH'] = le.fit_transform(df['MONTH'])\n",
    "df = labels.createLabel(df)\n",
    "df['STAT_CAUSE_DESCR'] =df['STAT_CAUSE_DESCR'].astype(int)\n",
    "print(df.head())"
   ]
  },
  {
   "cell_type": "code",
   "execution_count": 30,
   "metadata": {
    "colab": {
     "base_uri": "https://localhost:8080/",
     "height": 85
    },
    "colab_type": "code",
    "id": "eBFU0MBS5hPw",
    "outputId": "2ddf817c-eea8-4063-b552-467c7ed024fb"
   },
   "outputs": [
    {
     "data": {
      "text/plain": [
       "SVC(C=1.0, cache_size=200, class_weight=None, coef0=0.0,\n",
       "  decision_function_shape='ovr', degree=3, gamma='scale', kernel='rbf',\n",
       "  max_iter=-1, probability=False, random_state=None, shrinking=True,\n",
       "  tol=0.001, verbose=False)"
      ]
     },
     "execution_count": 30,
     "metadata": {},
     "output_type": "execute_result"
    }
   ],
   "source": [
    "from sklearn import svm\n",
    "from sklearn.model_selection import train_test_split \n",
    "\n",
    "df = df.head(50000)\n",
    "X = df[['DAY_OF_WEEK','MONTH','STATE', 'LATITUDE','LONGITUDE','FIRE_SIZE']]\n",
    "y = df['STAT_CAUSE_DESCR']\n",
    "\n",
    "\n",
    "\n",
    "X_train, X_test, y_train, y_test = train_test_split(X,y, test_size=0.20)\n",
    "model = svm.SVC(gamma='scale')\n",
    "\n",
    "model.fit(X_train, y_train)"
   ]
  },
  {
   "cell_type": "code",
   "execution_count": 31,
   "metadata": {
    "colab": {
     "base_uri": "https://localhost:8080/",
     "height": 34
    },
    "colab_type": "code",
    "id": "27vBwyAkEv1D",
    "outputId": "01764a95-533c-4446-f590-3857c7e83508"
   },
   "outputs": [
    {
     "data": {
      "text/plain": [
       "array([1, 1, 0, ..., 1, 1, 1])"
      ]
     },
     "execution_count": 31,
     "metadata": {},
     "output_type": "execute_result"
    }
   ],
   "source": [
    "y_pred = model.predict(X_test)\n",
    "y_pred "
   ]
  },
  {
   "cell_type": "code",
   "execution_count": 43,
   "metadata": {},
   "outputs": [
    {
     "name": "stdout",
     "output_type": "stream",
     "text": [
      "Classification Report\n",
      "              precision    recall  f1-score   support\n",
      "\n",
      "           0       0.69      0.96      0.80      6222\n",
      "           1       0.50      0.25      0.33      2672\n",
      "           2       0.00      0.00      0.00       696\n",
      "           3       0.00      0.00      0.00       157\n",
      "           4       0.00      0.00      0.00        97\n",
      "           5       0.00      0.00      0.00        84\n",
      "           6       0.00      0.00      0.00        72\n",
      "\n",
      "   micro avg       0.66      0.66      0.66     10000\n",
      "   macro avg       0.17      0.17      0.16     10000\n",
      "weighted avg       0.56      0.66      0.59     10000\n",
      "\n"
     ]
    },
    {
     "name": "stderr",
     "output_type": "stream",
     "text": [
      "/anaconda3/lib/python3.7/site-packages/sklearn/metrics/classification.py:1143: UndefinedMetricWarning: Precision and F-score are ill-defined and being set to 0.0 in labels with no predicted samples.\n",
      "  'precision', 'predicted', average, warn_for)\n",
      "/anaconda3/lib/python3.7/site-packages/sklearn/metrics/classification.py:1143: UndefinedMetricWarning: Precision and F-score are ill-defined and being set to 0.0 in labels with no predicted samples.\n",
      "  'precision', 'predicted', average, warn_for)\n",
      "/anaconda3/lib/python3.7/site-packages/sklearn/metrics/classification.py:1143: UndefinedMetricWarning: Precision and F-score are ill-defined and being set to 0.0 in labels with no predicted samples.\n",
      "  'precision', 'predicted', average, warn_for)\n"
     ]
    },
    {
     "name": "stdout",
     "output_type": "stream",
     "text": [
      "Score for SVM is: 0.6716\n",
      "Accuracy score: 0.6631\n"
     ]
    }
   ],
   "source": [
    "from sklearn.metrics import classification_report,accuracy_score,f1_score\n",
    "print(\"Classification Report\")\n",
    "print(classification_report(y_test,y_pred))  \n",
    "print(\"Score for SVM is:\",model.score(X_train, y_train))\n",
    "print(\"Accuracy score:\",accuracy_score(y_test,y_pred))"
   ]
  },
  {
   "cell_type": "markdown",
   "metadata": {},
   "source": [
    "# Confusion Matrix"
   ]
  },
  {
   "cell_type": "code",
   "execution_count": 33,
   "metadata": {},
   "outputs": [
    {
     "name": "stdout",
     "output_type": "stream",
     "text": [
      "Confusion matrix:\n",
      "Predicted    0     1  2   3   4  __all__\n",
      "Actual                                  \n",
      "0           23   196  0   0   4      223\n",
      "1          138   816  0   6   8      968\n",
      "2           14   101  0   1   0      116\n",
      "3           49   364  0   3   5      421\n",
      "4           26   230  0   0   2      258\n",
      "__all__    250  1707  0  10  19     1986\n"
     ]
    },
    {
     "name": "stderr",
     "output_type": "stream",
     "text": [
      "/anaconda3/lib/python3.7/site-packages/pandas_ml/confusion_matrix/abstract.py:66: FutureWarning: \n",
      "Passing list-likes to .loc or [] with any missing label will raise\n",
      "KeyError in the future, you can use .reindex() as an alternative.\n",
      "\n",
      "See the documentation here:\n",
      "https://pandas.pydata.org/pandas-docs/stable/indexing.html#deprecate-loc-reindex-listlike\n",
      "  df = df.loc[idx, idx.copy()].fillna(0)  # if some columns or rows are missing\n"
     ]
    }
   ],
   "source": [
    "from pandas_ml import ConfusionMatrix\n",
    "\n",
    "confusion_matrix = ConfusionMatrix(y_test, y_pred)\n",
    "print(\"Confusion matrix:\\n%s\" % confusion_matrix)"
   ]
  },
  {
   "cell_type": "code",
   "execution_count": 34,
   "metadata": {},
   "outputs": [
    {
     "data": {
      "text/plain": [
       "<matplotlib.axes._subplots.AxesSubplot at 0x1a5110a940>"
      ]
     },
     "execution_count": 34,
     "metadata": {},
     "output_type": "execute_result"
    },
    {
     "data": {
      "image/png": "[encoded data removed]",
      "text/plain": [
       "<Figure size 648x576 with 2 Axes>"
      ]
     },
     "metadata": {
      "needs_background": "light"
     },
     "output_type": "display_data"
    }
   ],
   "source": [
    "confusion_matrix.plot()"
   ]
  },
  {
   "cell_type": "markdown",
   "metadata": {},
   "source": [
    "# Corelation Matrix"
   ]
  },
  {
   "cell_type": "code",
   "execution_count": 35,
   "metadata": {},
   "outputs": [
    {
     "data": {
      "text/plain": [
       "<matplotlib.axes._subplots.AxesSubplot at 0x1a387e7eb8>"
      ]
     },
     "execution_count": 35,
     "metadata": {},
     "output_type": "execute_result"
    },
    {
     "data": {
      "image/png": "[encoded data removed]",
      "text/plain": [
       "<Figure size 432x288 with 2 Axes>"
      ]
     },
     "metadata": {
      "needs_background": "light"
     },
     "output_type": "display_data"
    }
   ],
   "source": [
    "import seaborn as sns\n",
    "corr = df.corr()\n",
    "sns.heatmap(corr, \n",
    "            xticklabels=corr.columns.values,\n",
    "            yticklabels=corr.columns.values)"
   ]
  },
  {
   "cell_type": "markdown",
   "metadata": {},
   "source": [
    "# Decision Tree Classifier"
   ]
  },
  {
   "cell_type": "code",
   "execution_count": 36,
   "metadata": {},
   "outputs": [
    {
     "name": "stdout",
     "output_type": "stream",
     "text": [
      "Classification Report\n",
      "              precision    recall  f1-score   support\n",
      "\n",
      "           0       0.47      0.48      0.48       782\n",
      "           1       0.81      0.80      0.81      5494\n",
      "           2       0.27      0.27      0.27       483\n",
      "           3       0.42      0.41      0.42      1998\n",
      "           4       0.28      0.28      0.28      1243\n",
      "\n",
      "   micro avg       0.61      0.61      0.61     10000\n",
      "   macro avg       0.45      0.45      0.45     10000\n",
      "weighted avg       0.61      0.61      0.61     10000\n",
      "\n",
      "Accuracy score: 0.6109\n"
     ]
    }
   ],
   "source": [
    "from sklearn import tree\n",
    "clf = tree.DecisionTreeClassifier()\n",
    "\n",
    "\n",
    "clf = clf.fit(X_train,y_train)\n",
    "y_pred = clf.predict(X_test)\n",
    "\n",
    "print(\"Classification Report\")\n",
    "print(classification_report(y_test,y_pred))  \n",
    "\n",
    "print(\"Accuracy score:\",accuracy_score(y_test,y_pred))"
   ]
  },
  {
   "cell_type": "markdown",
   "metadata": {},
   "source": [
    "# Bagging Classifier"
   ]
  },
  {
   "cell_type": "code",
   "execution_count": 37,
   "metadata": {},
   "outputs": [
    {
     "name": "stdout",
     "output_type": "stream",
     "text": [
      "Classification Report\n",
      "              precision    recall  f1-score   support\n",
      "\n",
      "           0       0.50      0.60      0.55       782\n",
      "           1       0.80      0.88      0.84      5494\n",
      "           2       0.37      0.29      0.33       483\n",
      "           3       0.50      0.43      0.46      1998\n",
      "           4       0.36      0.24      0.29      1243\n",
      "\n",
      "   micro avg       0.66      0.66      0.66     10000\n",
      "   macro avg       0.50      0.49      0.49     10000\n",
      "weighted avg       0.64      0.66      0.65     10000\n",
      "\n",
      "Accuracy score: 0.6625\n",
      "Classification Report\n",
      "              precision    recall  f1-score   support\n",
      "\n",
      "           0       0.55      0.62      0.58       782\n",
      "           1       0.80      0.90      0.85      5494\n",
      "           2       0.41      0.30      0.34       483\n",
      "           3       0.51      0.44      0.48      1998\n",
      "           4       0.38      0.27      0.32      1243\n",
      "\n",
      "   micro avg       0.68      0.68      0.68     10000\n",
      "   macro avg       0.53      0.50      0.51     10000\n",
      "weighted avg       0.65      0.68      0.66     10000\n",
      "\n",
      "Accuracy score: 0.6797\n",
      "Classification Report\n",
      "              precision    recall  f1-score   support\n",
      "\n",
      "           0       0.56      0.61      0.58       782\n",
      "           1       0.80      0.90      0.85      5494\n",
      "           2       0.42      0.29      0.34       483\n",
      "           3       0.52      0.45      0.48      1998\n",
      "           4       0.40      0.28      0.33      1243\n",
      "\n",
      "   micro avg       0.68      0.68      0.68     10000\n",
      "   macro avg       0.54      0.51      0.52     10000\n",
      "weighted avg       0.66      0.68      0.67     10000\n",
      "\n",
      "Accuracy score: 0.6834\n"
     ]
    }
   ],
   "source": [
    "from sklearn.ensemble import BaggingClassifier\n",
    "\n",
    "\n",
    "clf_ws = BaggingClassifier(n_estimators=5, warm_start=True,random_state=3141)\n",
    "clf_ws.fit(X_train, y_train)\n",
    "y1 = clf_ws.predict(X_test)\n",
    "\n",
    "print(\"Classification Report\")\n",
    "print(classification_report(y_test,y1))  \n",
    "\n",
    "print(\"Accuracy score:\",accuracy_score(y_test,y1))\n",
    "\n",
    "clf = BaggingClassifier(n_estimators=10, warm_start=False,random_state=3141)\n",
    "clf.fit(X_train, y_train)\n",
    "y2 = clf.predict(X_test)\n",
    "\n",
    "print(\"Classification Report\")\n",
    "print(classification_report(y_test,y2))  \n",
    "\n",
    "print(\"Accuracy score:\",accuracy_score(y_test,y2))\n",
    "\n",
    "clf = BaggingClassifier(n_estimators=20, warm_start=False,random_state=3141)\n",
    "clf.fit(X_train, y_train)\n",
    "y3 = clf.predict(X_test)\n",
    "\n",
    "print(\"Classification Report\")\n",
    "print(classification_report(y_test,y3))  \n",
    "\n",
    "print(\"Accuracy score:\",accuracy_score(y_test,y3))"
   ]
  },
  {
   "cell_type": "markdown",
   "metadata": {},
   "source": [
    "# Predict fire severity (FIRE_SIZE_CLASS)"
   ]
  },
  {
   "cell_type": "code",
   "execution_count": 40,
   "metadata": {},
   "outputs": [
    {
     "data": {
      "text/plain": [
       "array([0, 0, 0, ..., 0, 1, 0])"
      ]
     },
     "execution_count": 40,
     "metadata": {},
     "output_type": "execute_result"
    }
   ],
   "source": [
    "le = preprocessing.LabelEncoder()\n",
    "df['STAT_CAUSE_DESCR'] = le.fit_transform(df['STAT_CAUSE_DESCR'])\n",
    "df['DAY_OF_WEEK'] = le.fit_transform(df['DAY_OF_WEEK'])\n",
    "df['MONTH'] = le.fit_transform(df['MONTH'])\n",
    "df['FIRE_SIZE_CLASS'] = le.fit_transform(df['FIRE_SIZE_CLASS'])\n",
    "df['STATE'] = le.fit_transform(df['STATE'])\n",
    "X = df[['DAY_OF_WEEK','MONTH','STATE', 'LATITUDE','LONGITUDE','STAT_CAUSE_DESCR']]\n",
    "y = df['FIRE_SIZE_CLASS']\n",
    "\n",
    "\n",
    "X_train, X_test, y_train, y_test = train_test_split(X,y, test_size=0.20)\n",
    "model = svm.SVC(gamma='scale')\n",
    "model.fit(X_train, y_train)\n",
    "y_pred = model.predict(X_test)\n",
    "y_pred \n"
   ]
  },
  {
   "cell_type": "code",
   "execution_count": 41,
   "metadata": {},
   "outputs": [
    {
     "name": "stdout",
     "output_type": "stream",
     "text": [
      "Classification Report\n",
      "              precision    recall  f1-score   support\n",
      "\n",
      "           0       0.69      0.96      0.80      6222\n",
      "           1       0.50      0.25      0.33      2672\n",
      "           2       0.00      0.00      0.00       696\n",
      "           3       0.00      0.00      0.00       157\n",
      "           4       0.00      0.00      0.00        97\n",
      "           5       0.00      0.00      0.00        84\n",
      "           6       0.00      0.00      0.00        72\n",
      "\n",
      "   micro avg       0.66      0.66      0.66     10000\n",
      "   macro avg       0.17      0.17      0.16     10000\n",
      "weighted avg       0.56      0.66      0.59     10000\n",
      "\n"
     ]
    },
    {
     "name": "stderr",
     "output_type": "stream",
     "text": [
      "/anaconda3/lib/python3.7/site-packages/sklearn/metrics/classification.py:1143: UndefinedMetricWarning: Precision and F-score are ill-defined and being set to 0.0 in labels with no predicted samples.\n",
      "  'precision', 'predicted', average, warn_for)\n",
      "/anaconda3/lib/python3.7/site-packages/sklearn/metrics/classification.py:1143: UndefinedMetricWarning: Precision and F-score are ill-defined and being set to 0.0 in labels with no predicted samples.\n",
      "  'precision', 'predicted', average, warn_for)\n",
      "/anaconda3/lib/python3.7/site-packages/sklearn/metrics/classification.py:1143: UndefinedMetricWarning: Precision and F-score are ill-defined and being set to 0.0 in labels with no predicted samples.\n",
      "  'precision', 'predicted', average, warn_for)\n"
     ]
    },
    {
     "name": "stdout",
     "output_type": "stream",
     "text": [
      "Score for SVM is: 0.6716\n",
      "Accuracy score: 0.6631\n"
     ]
    },
    {
     "data": {
      "text/plain": [
       "6080     0\n",
       "41268    0\n",
       "48486    1\n",
       "40236    0\n",
       "36664    1\n",
       "47782    0\n",
       "4333     6\n",
       "48466    0\n",
       "40301    0\n",
       "49375    0\n",
       "36522    0\n",
       "25366    1\n",
       "28444    6\n",
       "32120    1\n",
       "22009    0\n",
       "35068    0\n",
       "22898    0\n",
       "16330    1\n",
       "29928    1\n",
       "95       0\n",
       "28596    0\n",
       "42091    1\n",
       "28498    0\n",
       "11684    0\n",
       "49981    0\n",
       "31049    1\n",
       "26413    0\n",
       "34957    0\n",
       "45490    0\n",
       "11288    0\n",
       "        ..\n",
       "14886    0\n",
       "12378    0\n",
       "40662    0\n",
       "34052    1\n",
       "13842    3\n",
       "38904    3\n",
       "28918    0\n",
       "45796    0\n",
       "16763    0\n",
       "41712    0\n",
       "26553    0\n",
       "46247    0\n",
       "2764     1\n",
       "7161     2\n",
       "10003    0\n",
       "6038     0\n",
       "148      1\n",
       "6593     2\n",
       "29582    0\n",
       "42718    0\n",
       "6901     0\n",
       "40390    0\n",
       "30177    1\n",
       "35711    1\n",
       "31267    0\n",
       "31306    2\n",
       "28636    1\n",
       "3327     0\n",
       "18467    1\n",
       "28156    0\n",
       "Name: FIRE_SIZE_CLASS, Length: 10000, dtype: int64"
      ]
     },
     "execution_count": 41,
     "metadata": {},
     "output_type": "execute_result"
    }
   ],
   "source": [
    "print(\"Classification Report\")\n",
    "print(classification_report(y_test,y_pred))  \n",
    "print(\"Score for SVM is:\",model.score(X_train, y_train))\n",
    "print(\"Accuracy score:\",accuracy_score(y_test,y_pred))\n",
    "\n",
    "y_test"
   ]
  },
  {
   "cell_type": "code",
   "execution_count": 44,
   "metadata": {},
   "outputs": [
    {
     "name": "stdout",
     "output_type": "stream",
     "text": [
      "F1-score: 0.162277\n",
      "Accuracy: 0.663100\n",
      "Confusion matrix:\n",
      "Predicted     0    1  2  3  4  5  6  __all__\n",
      "Actual                                      \n",
      "0          1064  151  0  0  0  0  0     1215\n",
      "1           488   87  0  0  0  0  0      575\n",
      "2           156   24  0  0  0  0  0      180\n",
      "3            25    6  0  0  0  0  0       31\n",
      "4            18    4  0  0  0  0  0       22\n",
      "5            15    1  0  0  0  0  0       16\n",
      "6            10    2  0  0  0  0  0       12\n",
      "__all__    1776  275  0  0  0  0  0     2051\n"
     ]
    },
    {
     "name": "stderr",
     "output_type": "stream",
     "text": [
      "/anaconda3/lib/python3.7/site-packages/pandas_ml/confusion_matrix/abstract.py:66: FutureWarning: \n",
      "Passing list-likes to .loc or [] with any missing label will raise\n",
      "KeyError in the future, you can use .reindex() as an alternative.\n",
      "\n",
      "See the documentation here:\n",
      "https://pandas.pydata.org/pandas-docs/stable/indexing.html#deprecate-loc-reindex-listlike\n",
      "  df = df.loc[idx, idx.copy()].fillna(0)  # if some columns or rows are missing\n",
      "/anaconda3/lib/python3.7/site-packages/sklearn/metrics/classification.py:1143: UndefinedMetricWarning: F-score is ill-defined and being set to 0.0 in labels with no predicted samples.\n",
      "  'precision', 'predicted', average, warn_for)\n"
     ]
    }
   ],
   "source": [
    "confusion_matrix = ConfusionMatrix(y_test, y_pred)\n",
    "print(\"F1-score: %f\"%(f1_score(y_test,y_pred,average='macro')))\n",
    "print(\"Accuracy: %f\"%(accuracy_score(y_test,y_pred)))\n",
    "print(\"Confusion matrix:\\n%s\" % confusion_matrix)"
   ]
  },
  {
   "cell_type": "code",
   "execution_count": null,
   "metadata": {},
   "outputs": [],
   "source": []
  }
 ],
 "metadata": {
  "colab": {
   "collapsed_sections": [],
   "name": "Analysis.ipynb",
   "provenance": [],
   "version": "0.3.2"
  },
  "kernelspec": {
   "display_name": "Python 3",
   "language": "python",
   "name": "python3"
  },
  "language_info": {
   "codemirror_mode": {
    "name": "ipython",
    "version": 3
   },
   "file_extension": ".py",
   "mimetype": "text/x-python",
   "name": "python",
   "nbconvert_exporter": "python",
   "pygments_lexer": "ipython3",
   "version": "3.7.1"
  }
 },
 "nbformat": 4,
 "nbformat_minor": 1
}
